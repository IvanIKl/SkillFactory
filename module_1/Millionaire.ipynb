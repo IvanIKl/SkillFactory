{
 "cells": [
  {
   "cell_type": "markdown",
   "metadata": {},
   "source": [
    "Name:        Who wants to be a millionaire of movie service ?"
   ]
  },
  {
   "cell_type": "markdown",
   "metadata": {},
   "source": [
    "Author:      Ivan Kleymenov"
   ]
  },
  {
   "cell_type": "code",
   "execution_count": 70,
   "metadata": {
    "_cell_guid": "b1076dfc-b9ad-4769-8c92-a6c4dae69d19",
    "_uuid": "8f2839f25d086af736a60e9eeb907d3b93b6e0e5",
    "colab": {},
    "colab_type": "code",
    "id": "U2D2gTdJVp90"
   },
   "outputs": [],
   "source": [
    "import numpy as np\n",
    "import pandas as pd\n",
    "import seaborn as sns\n",
    "import matplotlib.pyplot as plt\n",
    "from collections import Counter\n",
    "import itertools "
   ]
  },
  {
   "cell_type": "code",
   "execution_count": 71,
   "metadata": {
    "_cell_guid": "79c7e3d0-c299-4dcb-8224-4455121ee9b0",
    "_uuid": "d629ff2d2480ee46fbb7e2d37f6b5fab8052498a",
    "colab": {},
    "colab_type": "code",
    "id": "oyGfxL3eVp9-"
   },
   "outputs": [
    {
     "data": {
      "text/html": [
       "<div>\n",
       "<style scoped>\n",
       "    .dataframe tbody tr th:only-of-type {\n",
       "        vertical-align: middle;\n",
       "    }\n",
       "\n",
       "    .dataframe tbody tr th {\n",
       "        vertical-align: top;\n",
       "    }\n",
       "\n",
       "    .dataframe thead th {\n",
       "        text-align: right;\n",
       "    }\n",
       "</style>\n",
       "<table border=\"1\" class=\"dataframe\">\n",
       "  <thead>\n",
       "    <tr style=\"text-align: right;\">\n",
       "      <th></th>\n",
       "      <th>imdb_id</th>\n",
       "      <th>budget</th>\n",
       "      <th>revenue</th>\n",
       "      <th>original_title</th>\n",
       "      <th>cast</th>\n",
       "      <th>director</th>\n",
       "      <th>tagline</th>\n",
       "      <th>overview</th>\n",
       "      <th>runtime</th>\n",
       "      <th>genres</th>\n",
       "      <th>production_companies</th>\n",
       "      <th>release_date</th>\n",
       "      <th>vote_average</th>\n",
       "      <th>release_year</th>\n",
       "    </tr>\n",
       "  </thead>\n",
       "  <tbody>\n",
       "    <tr>\n",
       "      <td>1544</td>\n",
       "      <td>tt0365830</td>\n",
       "      <td>22000000</td>\n",
       "      <td>13405595</td>\n",
       "      <td>Tenacious D in The Pick of Destiny</td>\n",
       "      <td>Jack Black|Kyle Gass|Ronnie James Dio|Tim Robb...</td>\n",
       "      <td>Liam Lynch</td>\n",
       "      <td>An epic quest. A magical guitar pick. A chance...</td>\n",
       "      <td>In Venice Beach, naive Midwesterner JB bonds w...</td>\n",
       "      <td>93</td>\n",
       "      <td>Comedy|Music</td>\n",
       "      <td>Red Hour Films</td>\n",
       "      <td>11/22/2006</td>\n",
       "      <td>6.2</td>\n",
       "      <td>2006</td>\n",
       "    </tr>\n",
       "    <tr>\n",
       "      <td>1797</td>\n",
       "      <td>tt0778661</td>\n",
       "      <td>10000000</td>\n",
       "      <td>31609243</td>\n",
       "      <td>Daddy's Little Girls</td>\n",
       "      <td>Gabrielle Union|Idris Elba|Louis Gossett, Jr.|...</td>\n",
       "      <td>Tyler Perry</td>\n",
       "      <td>Family Comes First</td>\n",
       "      <td>Monty is a mechanic struggling to make ends me...</td>\n",
       "      <td>100</td>\n",
       "      <td>Comedy|Drama|Romance</td>\n",
       "      <td>Lions Gate Films|Tyler Perry Company, The</td>\n",
       "      <td>2/14/2007</td>\n",
       "      <td>6.7</td>\n",
       "      <td>2007</td>\n",
       "    </tr>\n",
       "    <tr>\n",
       "      <td>515</td>\n",
       "      <td>tt0215750</td>\n",
       "      <td>70000000</td>\n",
       "      <td>96976270</td>\n",
       "      <td>Enemy at the Gates</td>\n",
       "      <td>Jude Law|Rachel Weisz|Ed Harris|Joseph Fiennes...</td>\n",
       "      <td>Jean-Jacques Annaud</td>\n",
       "      <td>Some Men Are Born To Be Heroes.</td>\n",
       "      <td>Enemy at the Gates is a war film from Jean-Jac...</td>\n",
       "      <td>131</td>\n",
       "      <td>War</td>\n",
       "      <td>Paramount Pictures|Swanford Films|Mandalay Pic...</td>\n",
       "      <td>3/13/2001</td>\n",
       "      <td>7.1</td>\n",
       "      <td>2001</td>\n",
       "    </tr>\n",
       "    <tr>\n",
       "      <td>1511</td>\n",
       "      <td>tt0482527</td>\n",
       "      <td>15500000</td>\n",
       "      <td>7385434</td>\n",
       "      <td>Itâ€™s a Boy Girl Thing</td>\n",
       "      <td>Kevin Zegers|Samaire Armstrong|Sherry Miller|R...</td>\n",
       "      <td>Nick Hurran</td>\n",
       "      <td>They've turned into the things they hated most...</td>\n",
       "      <td>A visit to a natural history museum proves cat...</td>\n",
       "      <td>95</td>\n",
       "      <td>Comedy</td>\n",
       "      <td>Prospero Pictures|Icon Entertainment Internati...</td>\n",
       "      <td>12/26/2006</td>\n",
       "      <td>6.2</td>\n",
       "      <td>2006</td>\n",
       "    </tr>\n",
       "    <tr>\n",
       "      <td>525</td>\n",
       "      <td>tt0268397</td>\n",
       "      <td>25000000</td>\n",
       "      <td>80936232</td>\n",
       "      <td>Jimmy Neutron: Boy Genius</td>\n",
       "      <td>Debi Derryberry|Megan Cavanagh|Mark DeCarlo|Je...</td>\n",
       "      <td>John A. Davis</td>\n",
       "      <td>He may be small, but he's got a big brain!</td>\n",
       "      <td>Jimmy Neutron is a boy genius and way ahead of...</td>\n",
       "      <td>83</td>\n",
       "      <td>Adventure|Fantasy|Animation|Action|Comedy</td>\n",
       "      <td>Nickelodeon Movies|Universal Cartoon Studios|P...</td>\n",
       "      <td>12/21/2001</td>\n",
       "      <td>5.5</td>\n",
       "      <td>2001</td>\n",
       "    </tr>\n",
       "  </tbody>\n",
       "</table>\n",
       "</div>"
      ],
      "text/plain": [
       "        imdb_id    budget   revenue                      original_title  \\\n",
       "1544  tt0365830  22000000  13405595  Tenacious D in The Pick of Destiny   \n",
       "1797  tt0778661  10000000  31609243                Daddy's Little Girls   \n",
       "515   tt0215750  70000000  96976270                  Enemy at the Gates   \n",
       "1511  tt0482527  15500000   7385434             Itâ€™s a Boy Girl Thing   \n",
       "525   tt0268397  25000000  80936232           Jimmy Neutron: Boy Genius   \n",
       "\n",
       "                                                   cast             director  \\\n",
       "1544  Jack Black|Kyle Gass|Ronnie James Dio|Tim Robb...           Liam Lynch   \n",
       "1797  Gabrielle Union|Idris Elba|Louis Gossett, Jr.|...          Tyler Perry   \n",
       "515   Jude Law|Rachel Weisz|Ed Harris|Joseph Fiennes...  Jean-Jacques Annaud   \n",
       "1511  Kevin Zegers|Samaire Armstrong|Sherry Miller|R...          Nick Hurran   \n",
       "525   Debi Derryberry|Megan Cavanagh|Mark DeCarlo|Je...        John A. Davis   \n",
       "\n",
       "                                                tagline  \\\n",
       "1544  An epic quest. A magical guitar pick. A chance...   \n",
       "1797                                 Family Comes First   \n",
       "515                     Some Men Are Born To Be Heroes.   \n",
       "1511  They've turned into the things they hated most...   \n",
       "525          He may be small, but he's got a big brain!   \n",
       "\n",
       "                                               overview  runtime  \\\n",
       "1544  In Venice Beach, naive Midwesterner JB bonds w...       93   \n",
       "1797  Monty is a mechanic struggling to make ends me...      100   \n",
       "515   Enemy at the Gates is a war film from Jean-Jac...      131   \n",
       "1511  A visit to a natural history museum proves cat...       95   \n",
       "525   Jimmy Neutron is a boy genius and way ahead of...       83   \n",
       "\n",
       "                                         genres  \\\n",
       "1544                               Comedy|Music   \n",
       "1797                       Comedy|Drama|Romance   \n",
       "515                                         War   \n",
       "1511                                     Comedy   \n",
       "525   Adventure|Fantasy|Animation|Action|Comedy   \n",
       "\n",
       "                                   production_companies release_date  \\\n",
       "1544                                     Red Hour Films   11/22/2006   \n",
       "1797          Lions Gate Films|Tyler Perry Company, The    2/14/2007   \n",
       "515   Paramount Pictures|Swanford Films|Mandalay Pic...    3/13/2001   \n",
       "1511  Prospero Pictures|Icon Entertainment Internati...   12/26/2006   \n",
       "525   Nickelodeon Movies|Universal Cartoon Studios|P...   12/21/2001   \n",
       "\n",
       "      vote_average  release_year  \n",
       "1544           6.2          2006  \n",
       "1797           6.7          2007  \n",
       "515            7.1          2001  \n",
       "1511           6.2          2006  \n",
       "525            5.5          2001  "
      ]
     },
     "execution_count": 71,
     "metadata": {},
     "output_type": "execute_result"
    }
   ],
   "source": [
    "data = pd.read_csv('movie_bd_v5.xls')\n",
    "data.sample(5)"
   ]
  },
  {
   "cell_type": "code",
   "execution_count": 72,
   "metadata": {
    "colab": {},
    "colab_type": "code",
    "id": "CoYUnagMVp-C",
    "scrolled": true
   },
   "outputs": [
    {
     "data": {
      "text/html": [
       "<div>\n",
       "<style scoped>\n",
       "    .dataframe tbody tr th:only-of-type {\n",
       "        vertical-align: middle;\n",
       "    }\n",
       "\n",
       "    .dataframe tbody tr th {\n",
       "        vertical-align: top;\n",
       "    }\n",
       "\n",
       "    .dataframe thead th {\n",
       "        text-align: right;\n",
       "    }\n",
       "</style>\n",
       "<table border=\"1\" class=\"dataframe\">\n",
       "  <thead>\n",
       "    <tr style=\"text-align: right;\">\n",
       "      <th></th>\n",
       "      <th>budget</th>\n",
       "      <th>revenue</th>\n",
       "      <th>runtime</th>\n",
       "      <th>vote_average</th>\n",
       "      <th>release_year</th>\n",
       "    </tr>\n",
       "  </thead>\n",
       "  <tbody>\n",
       "    <tr>\n",
       "      <td>count</td>\n",
       "      <td>1.889000e+03</td>\n",
       "      <td>1.889000e+03</td>\n",
       "      <td>1889.000000</td>\n",
       "      <td>1889.000000</td>\n",
       "      <td>1889.000000</td>\n",
       "    </tr>\n",
       "    <tr>\n",
       "      <td>mean</td>\n",
       "      <td>5.431083e+07</td>\n",
       "      <td>1.553653e+08</td>\n",
       "      <td>109.658549</td>\n",
       "      <td>6.140762</td>\n",
       "      <td>2007.860773</td>\n",
       "    </tr>\n",
       "    <tr>\n",
       "      <td>std</td>\n",
       "      <td>4.858721e+07</td>\n",
       "      <td>2.146698e+08</td>\n",
       "      <td>18.017041</td>\n",
       "      <td>0.764763</td>\n",
       "      <td>4.468841</td>\n",
       "    </tr>\n",
       "    <tr>\n",
       "      <td>min</td>\n",
       "      <td>5.000000e+06</td>\n",
       "      <td>2.033165e+06</td>\n",
       "      <td>63.000000</td>\n",
       "      <td>3.300000</td>\n",
       "      <td>2000.000000</td>\n",
       "    </tr>\n",
       "    <tr>\n",
       "      <td>25%</td>\n",
       "      <td>2.000000e+07</td>\n",
       "      <td>3.456058e+07</td>\n",
       "      <td>97.000000</td>\n",
       "      <td>5.600000</td>\n",
       "      <td>2004.000000</td>\n",
       "    </tr>\n",
       "    <tr>\n",
       "      <td>50%</td>\n",
       "      <td>3.800000e+07</td>\n",
       "      <td>8.361541e+07</td>\n",
       "      <td>107.000000</td>\n",
       "      <td>6.100000</td>\n",
       "      <td>2008.000000</td>\n",
       "    </tr>\n",
       "    <tr>\n",
       "      <td>75%</td>\n",
       "      <td>7.200000e+07</td>\n",
       "      <td>1.782626e+08</td>\n",
       "      <td>120.000000</td>\n",
       "      <td>6.600000</td>\n",
       "      <td>2012.000000</td>\n",
       "    </tr>\n",
       "    <tr>\n",
       "      <td>max</td>\n",
       "      <td>3.800000e+08</td>\n",
       "      <td>2.781506e+09</td>\n",
       "      <td>214.000000</td>\n",
       "      <td>8.100000</td>\n",
       "      <td>2015.000000</td>\n",
       "    </tr>\n",
       "  </tbody>\n",
       "</table>\n",
       "</div>"
      ],
      "text/plain": [
       "             budget       revenue      runtime  vote_average  release_year\n",
       "count  1.889000e+03  1.889000e+03  1889.000000   1889.000000   1889.000000\n",
       "mean   5.431083e+07  1.553653e+08   109.658549      6.140762   2007.860773\n",
       "std    4.858721e+07  2.146698e+08    18.017041      0.764763      4.468841\n",
       "min    5.000000e+06  2.033165e+06    63.000000      3.300000   2000.000000\n",
       "25%    2.000000e+07  3.456058e+07    97.000000      5.600000   2004.000000\n",
       "50%    3.800000e+07  8.361541e+07   107.000000      6.100000   2008.000000\n",
       "75%    7.200000e+07  1.782626e+08   120.000000      6.600000   2012.000000\n",
       "max    3.800000e+08  2.781506e+09   214.000000      8.100000   2015.000000"
      ]
     },
     "execution_count": 72,
     "metadata": {},
     "output_type": "execute_result"
    }
   ],
   "source": [
    "data.describe()"
   ]
  },
  {
   "cell_type": "code",
   "execution_count": 73,
   "metadata": {},
   "outputs": [
    {
     "name": "stdout",
     "output_type": "stream",
     "text": [
      "<class 'pandas.core.frame.DataFrame'>\n",
      "RangeIndex: 1889 entries, 0 to 1888\n",
      "Data columns (total 14 columns):\n",
      "imdb_id                 1889 non-null object\n",
      "budget                  1889 non-null int64\n",
      "revenue                 1889 non-null int64\n",
      "original_title          1889 non-null object\n",
      "cast                    1889 non-null object\n",
      "director                1889 non-null object\n",
      "tagline                 1889 non-null object\n",
      "overview                1889 non-null object\n",
      "runtime                 1889 non-null int64\n",
      "genres                  1889 non-null object\n",
      "production_companies    1889 non-null object\n",
      "release_date            1889 non-null object\n",
      "vote_average            1889 non-null float64\n",
      "release_year            1889 non-null int64\n",
      "dtypes: float64(1), int64(4), object(9)\n",
      "memory usage: 206.7+ KB\n"
     ]
    }
   ],
   "source": [
    "data.info()"
   ]
  },
  {
   "cell_type": "markdown",
   "metadata": {
    "colab_type": "text",
    "id": "DTIt7ezGVp-G"
   },
   "source": [
    "# Предобработка"
   ]
  },
  {
   "cell_type": "code",
   "execution_count": 74,
   "metadata": {
    "colab": {},
    "colab_type": "code",
    "id": "jNb40DwKVp-H"
   },
   "outputs": [],
   "source": [
    "answers = {} # создадим словарь для ответов\n",
    "\n",
    "#Переводим дату релиза в формат datetime\n",
    "data['dt_release_date'] = pd.to_datetime(data['release_date'])\n",
    "\n",
    "# Рассчитываем прибыль (profit) фильмов\n",
    "data['profit'] = data.apply(lambda row: row.revenue-row.budget, axis = 1 )\n",
    "\n",
    "# Создаем столбец со списком жанров\n",
    "data['genres_lst'] = data['genres'].apply(lambda x: x.split('|'))\n",
    "\n",
    "# Создаем столбец со списоком режиссеров\n",
    "data['director_lst'] = data['director'].apply(lambda x: x.split('|'))\n",
    "\n",
    "# Создаем столбец со списоком актеров\n",
    "data['cast_lst'] = data['cast'].apply(lambda x: x.split('|'))\n",
    "\n",
    "# Создаем столбец со списоком студий\n",
    "data['prod_lst'] = data['production_companies'].apply(lambda x: x.split('|'))\n",
    "\n",
    "# Создаем столбец c длиной строки с названием фильма\n",
    "data['title_len'] = data['original_title'].apply(lambda x: len(x))\n",
    "\n",
    "# Создаем столбец c количеством слов в описании\n",
    "data['overview_len'] = data['overview'].apply(lambda x: len(x.split()))\n"
   ]
  },
  {
   "cell_type": "markdown",
   "metadata": {
    "colab_type": "text",
    "id": "YxZaH-nPVp-L"
   },
   "source": [
    "# 1. У какого фильма из списка самый большой бюджет?"
   ]
  },
  {
   "cell_type": "code",
   "execution_count": 75,
   "metadata": {
    "colab": {},
    "colab_type": "code",
    "id": "uVnXAY5RVp-O"
   },
   "outputs": [],
   "source": [
    "# \"+\"\n",
    "answers['1'] = 'Pirates of the Caribbean: On Stranger Tides'"
   ]
  },
  {
   "cell_type": "code",
   "execution_count": 76,
   "metadata": {
    "colab": {},
    "colab_type": "code",
    "id": "dZwb3m28Vp-S"
   },
   "outputs": [
    {
     "name": "stdout",
     "output_type": "stream",
     "text": [
      "Cамый большой бюджет в размере 380000000 у фильма Pirates of the Caribbean: On Stranger Tides\n"
     ]
    }
   ],
   "source": [
    "max_budget_title = data[data.budget == data.budget.max()]['original_title'].values[0]\n",
    "print('Cамый большой бюджет в размере {} у фильма {}'.format(data.budget.max(),max_budget_title))"
   ]
  },
  {
   "cell_type": "markdown",
   "metadata": {
    "colab_type": "text",
    "id": "FNRbbI3vVp-c"
   },
   "source": [
    "# 2. Какой из фильмов самый длительный (в минутах)?"
   ]
  },
  {
   "cell_type": "code",
   "execution_count": 77,
   "metadata": {
    "colab": {},
    "colab_type": "code",
    "id": "vHAoEXNTVp-d"
   },
   "outputs": [],
   "source": [
    "# \"+\"\n",
    "answers['2'] = 'Gods and Generals'"
   ]
  },
  {
   "cell_type": "code",
   "execution_count": 78,
   "metadata": {
    "colab": {},
    "colab_type": "code",
    "id": "ot-VX2XrVp-g"
   },
   "outputs": [
    {
     "name": "stdout",
     "output_type": "stream",
     "text": [
      "Cамая большая длительность 214 у фильма Gods and Generals\n"
     ]
    }
   ],
   "source": [
    "max_runtime_title = data[data.runtime == data.runtime.max()]['original_title'].values[0]\n",
    "print('Cамая большая длительность {} у фильма {}'.format(data.runtime.max(),max_runtime_title))"
   ]
  },
  {
   "cell_type": "markdown",
   "metadata": {
    "colab_type": "text",
    "id": "bapLlpW8Vp-k"
   },
   "source": [
    "# 3. Какой из фильмов самый короткий (в минутах)?\n",
    "\n",
    "\n",
    "\n"
   ]
  },
  {
   "cell_type": "code",
   "execution_count": 79,
   "metadata": {
    "colab": {},
    "colab_type": "code",
    "id": "YBxaSHuAVp-l"
   },
   "outputs": [],
   "source": [
    "# \"+\"\n",
    "answers['3'] = 'Winnie the Pooh'"
   ]
  },
  {
   "cell_type": "code",
   "execution_count": 80,
   "metadata": {},
   "outputs": [
    {
     "name": "stdout",
     "output_type": "stream",
     "text": [
      "Cамая маленькая длительность 63 у фильма Winnie the Pooh\n"
     ]
    }
   ],
   "source": [
    "min_runtime_title = data[data.runtime == data.runtime.min()]['original_title'].values[0]\n",
    "print('Cамая маленькая длительность {} у фильма {}'.format(data.runtime.min(),min_runtime_title))"
   ]
  },
  {
   "cell_type": "markdown",
   "metadata": {
    "colab_type": "text",
    "id": "TfQbxbfNVp-p"
   },
   "source": [
    "# 4. Какова средняя длительность фильмов?\n"
   ]
  },
  {
   "cell_type": "code",
   "execution_count": 81,
   "metadata": {
    "colab": {},
    "colab_type": "code",
    "id": "5K6dKZYVVp-q"
   },
   "outputs": [],
   "source": [
    "# \"+\"\n",
    "answers['4'] = 110"
   ]
  },
  {
   "cell_type": "code",
   "execution_count": 82,
   "metadata": {},
   "outputs": [
    {
     "name": "stdout",
     "output_type": "stream",
     "text": [
      "Средняя длительность фильмов 110\n"
     ]
    }
   ],
   "source": [
    "print('Средняя длительность фильмов {}'.format(round(data.runtime.mean())))"
   ]
  },
  {
   "cell_type": "markdown",
   "metadata": {
    "colab_type": "text",
    "id": "r5TvbnT_Vp-u"
   },
   "source": [
    "# 5. Каково медианное значение длительности фильмов? "
   ]
  },
  {
   "cell_type": "code",
   "execution_count": 83,
   "metadata": {},
   "outputs": [],
   "source": [
    "# \"+\"\n",
    "answers['5'] = 107"
   ]
  },
  {
   "cell_type": "code",
   "execution_count": 84,
   "metadata": {
    "colab": {},
    "colab_type": "code",
    "id": "iBROplKnVp-v"
   },
   "outputs": [
    {
     "name": "stdout",
     "output_type": "stream",
     "text": [
      "Медианное значение длительности фильмов 107\n"
     ]
    }
   ],
   "source": [
    "print('Медианное значение длительности фильмов {}'.format(round(data.runtime.median())))"
   ]
  },
  {
   "cell_type": "markdown",
   "metadata": {
    "colab_type": "text",
    "id": "39P-deDSVp-y"
   },
   "source": [
    "# 6. Какой самый прибыльный фильм?\n",
    "#### Внимание! Здесь и далее под «прибылью» или «убытками» понимается разность между сборами и бюджетом фильма. (прибыль = сборы - бюджет) в нашем датасете это будет (profit = revenue - budget) "
   ]
  },
  {
   "cell_type": "code",
   "execution_count": 85,
   "metadata": {
    "colab": {},
    "colab_type": "code",
    "id": "UYZh4T9WVp-y"
   },
   "outputs": [],
   "source": [
    "# \"+\"\n",
    "answers['6'] = 'Avatar'"
   ]
  },
  {
   "cell_type": "code",
   "execution_count": 86,
   "metadata": {},
   "outputs": [
    {
     "name": "stdout",
     "output_type": "stream",
     "text": [
      "Самый прибыльный фильм Avatar с прибылью 2544505847\n"
     ]
    }
   ],
   "source": [
    "max_profit_title = data[data.profit == data.profit.max()]['original_title'].values[0]\n",
    "print('Самый прибыльный фильм {} с прибылью {}'.format(max_profit_title,data.profit.max()))"
   ]
  },
  {
   "cell_type": "markdown",
   "metadata": {
    "colab_type": "text",
    "id": "M99JmIX4Vp-2"
   },
   "source": [
    "# 7. Какой фильм самый убыточный? "
   ]
  },
  {
   "cell_type": "code",
   "execution_count": 87,
   "metadata": {
    "colab": {},
    "colab_type": "code",
    "id": "w-D2m4XPVp-3"
   },
   "outputs": [],
   "source": [
    "# \"+\"\n",
    "answers['7'] = 'The Lone Ranger'"
   ]
  },
  {
   "cell_type": "code",
   "execution_count": 88,
   "metadata": {},
   "outputs": [
    {
     "name": "stdout",
     "output_type": "stream",
     "text": [
      "Самый убыточный фильм The Lone Ranger с убытком -165710090\n"
     ]
    }
   ],
   "source": [
    "min_profit_title = data[data.profit == data.profit.min()]['original_title'].values[0]\n",
    "print('Самый убыточный фильм {} с убытком {}'.format(min_profit_title,data.profit.min()))"
   ]
  },
  {
   "cell_type": "markdown",
   "metadata": {
    "colab_type": "text",
    "id": "wEOM5ERVVp-6"
   },
   "source": [
    "# 8. У скольких фильмов из датасета объем сборов оказался выше бюджета?"
   ]
  },
  {
   "cell_type": "code",
   "execution_count": 89,
   "metadata": {
    "colab": {},
    "colab_type": "code",
    "id": "y00_7HD6Vp-7"
   },
   "outputs": [],
   "source": [
    "# \"+\"\n",
    "answers['8'] = 1478"
   ]
  },
  {
   "cell_type": "markdown",
   "metadata": {},
   "source": [
    "ВАРИАНТ 1"
   ]
  },
  {
   "cell_type": "code",
   "execution_count": 90,
   "metadata": {},
   "outputs": [
    {
     "name": "stdout",
     "output_type": "stream",
     "text": [
      "У 1478 фильмов из датасета объем сборов оказался выше бюджета\n"
     ]
    }
   ],
   "source": [
    "# Используем столбец profit\n",
    "\n",
    "pos_profit = len(data[data.profit > 0])\n",
    "print('У {} фильмов из датасета объем сборов оказался выше бюджета'.format(pos_profit))"
   ]
  },
  {
   "cell_type": "markdown",
   "metadata": {},
   "source": [
    "ВАРИАНТ 2\n"
   ]
  },
  {
   "cell_type": "code",
   "execution_count": 91,
   "metadata": {},
   "outputs": [
    {
     "name": "stdout",
     "output_type": "stream",
     "text": [
      "У 1478 фильмов из датасета объем сборов оказался выше бюджета\n"
     ]
    }
   ],
   "source": [
    "# Используем сранение между сборами и бюджетом\n",
    "\n",
    "pos_profit2 = len(data[data.revenue > data.budget])\n",
    "print('У {} фильмов из датасета объем сборов оказался выше бюджета'.format(pos_profit2))"
   ]
  },
  {
   "cell_type": "markdown",
   "metadata": {
    "colab_type": "text",
    "id": "xhpspA9KVp_A"
   },
   "source": [
    "# 9. Какой фильм оказался самым кассовым в 2008 году?"
   ]
  },
  {
   "cell_type": "code",
   "execution_count": 92,
   "metadata": {
    "colab": {},
    "colab_type": "code",
    "id": "MoUyQr9RVp_B"
   },
   "outputs": [],
   "source": [
    "# \"+\"\n",
    "answers['9'] = 'The Dark Knight'"
   ]
  },
  {
   "cell_type": "code",
   "execution_count": 93,
   "metadata": {},
   "outputs": [
    {
     "name": "stdout",
     "output_type": "stream",
     "text": [
      "Cамый кассовый в размере 1001921825 фильма в 2008 году The Dark Knight\n"
     ]
    }
   ],
   "source": [
    "df2008 = data[data.release_year == 2008]\n",
    "max_revenue2008 = df2008.revenue.max()\n",
    "max_revenue_title2008 = df2008[df2008.revenue == max_revenue2008]['original_title'].values[0]\n",
    "print('Cамый кассовый в размере {} фильма в 2008 году {}'.format(max_revenue2008,max_revenue_title2008))"
   ]
  },
  {
   "cell_type": "markdown",
   "metadata": {
    "colab_type": "text",
    "id": "Zi4hDKidVp_F"
   },
   "source": [
    "# 10. Самый убыточный фильм за период с 2012 по 2014 г. (включительно)?\n"
   ]
  },
  {
   "cell_type": "code",
   "execution_count": 94,
   "metadata": {
    "colab": {},
    "colab_type": "code",
    "id": "XqyRmufJVp_F"
   },
   "outputs": [],
   "source": [
    "# \"+\"\n",
    "answers['10'] = 'The Lone Ranger'"
   ]
  },
  {
   "cell_type": "code",
   "execution_count": 95,
   "metadata": {},
   "outputs": [
    {
     "name": "stdout",
     "output_type": "stream",
     "text": [
      "Cамый убыточный в размере -165710090 фильм в 2012-2014 годах The Lone Ranger\n"
     ]
    }
   ],
   "source": [
    "df = data[(data.release_year >= 2012) & (data.release_year <= 2014)]\n",
    "min_profit12_14 = df.profit.min()\n",
    "min_profit_title12_14 = df[df.profit == min_profit12_14]['original_title'].values[0]\n",
    "print('Cамый убыточный в размере {} фильм в 2012-2014 годах {}'.format(min_profit12_14,min_profit_title12_14))"
   ]
  },
  {
   "cell_type": "markdown",
   "metadata": {
    "colab_type": "text",
    "id": "EA7Sa9dkVp_I"
   },
   "source": [
    "# 11. Какого жанра фильмов больше всего?"
   ]
  },
  {
   "cell_type": "code",
   "execution_count": 96,
   "metadata": {
    "colab": {},
    "colab_type": "code",
    "id": "zsJAwJ8QVp_J"
   },
   "outputs": [],
   "source": [
    "# \"+\"\n",
    "answers['11'] = 'Drama'"
   ]
  },
  {
   "cell_type": "markdown",
   "metadata": {},
   "source": [
    "ВАРИАНТ 1"
   ]
  },
  {
   "cell_type": "code",
   "execution_count": 97,
   "metadata": {
    "scrolled": false
   },
   "outputs": [
    {
     "name": "stdout",
     "output_type": "stream",
     "text": [
      "Больше всего фильмов из жанра Drama. Их число 782\n"
     ]
    }
   ],
   "source": [
    "# Вариант с использованием размножения строк списка жанров\n",
    "\n",
    "exp_df = data.explode('genres_lst').genres_lst.value_counts().reset_index()\n",
    "max_genres = exp_df['index'].iloc[0]\n",
    "max_genres_count = exp_df['genres_lst'].iloc[0]\n",
    "print('Больше всего фильмов из жанра {}. Их число {}'.format(max_genres,max_genres_count))"
   ]
  },
  {
   "cell_type": "markdown",
   "metadata": {
    "colab_type": "text",
    "id": "Ax6g2C8SVp_M"
   },
   "source": [
    "ВАРИАНТ 2"
   ]
  },
  {
   "cell_type": "code",
   "execution_count": 98,
   "metadata": {
    "colab": {},
    "colab_type": "code",
    "id": "otO3SbrSVp_N"
   },
   "outputs": [
    {
     "name": "stdout",
     "output_type": "stream",
     "text": [
      "Больше всего фильмов из жанра Drama. Их число 782\n"
     ]
    }
   ],
   "source": [
    "# Вариант с использованием функции в apply, подсчитывающей жанры\n",
    "\n",
    "# Объект - счетчик жанров\n",
    "c = Counter()\n",
    "\n",
    "# Функция суммирования жанров в датафрейме\n",
    "def genres_sum(genres):\n",
    "    for genre in genres:\n",
    "        c[genre] += 1\n",
    "\n",
    "data['genres_lst'].apply(genres_sum)\n",
    "max_genres = ''\n",
    "max_genres_count = 0\n",
    "for k,j in c.items():\n",
    "    if j > max_genres_count:\n",
    "        max_genres_count = j \n",
    "        max_genres = k\n",
    "\n",
    "print('Больше всего фильмов из жанра {}. Их число {}'.format(max_genres,max_genres_count))\n"
   ]
  },
  {
   "cell_type": "markdown",
   "metadata": {},
   "source": [
    "ВАРИАНТ 3\n"
   ]
  },
  {
   "cell_type": "code",
   "execution_count": 99,
   "metadata": {},
   "outputs": [
    {
     "name": "stdout",
     "output_type": "stream",
     "text": [
      "Больше всего фильмов из жанра Drama. Их число 782\n"
     ]
    }
   ],
   "source": [
    "# Вариант с использованием счетчика, подсчитывающего жанры из полного списка \n",
    "\n",
    "c = Counter(data.genres.str.cat(sep = '|').split('|')).most_common()[0]\n",
    "max_genres = c[0]\n",
    "max_genres_count = c[1]\n",
    "print('Больше всего фильмов из жанра {}. Их число {}'.format(max_genres,max_genres_count))"
   ]
  },
  {
   "cell_type": "markdown",
   "metadata": {
    "colab_type": "text",
    "id": "T9_bPWpkVp_Q"
   },
   "source": [
    "# 12. Фильмы какого жанра чаще всего становятся прибыльными? "
   ]
  },
  {
   "cell_type": "code",
   "execution_count": 100,
   "metadata": {
    "colab": {},
    "colab_type": "code",
    "id": "Tmt8MaK1Vp_R"
   },
   "outputs": [],
   "source": [
    "# \"+\"\n",
    "answers['12'] = 'Drama'"
   ]
  },
  {
   "cell_type": "code",
   "execution_count": 101,
   "metadata": {},
   "outputs": [
    {
     "name": "stdout",
     "output_type": "stream",
     "text": [
      "Больше всего прибыльных фильмов из жанра Drama. Их число 560\n"
     ]
    }
   ],
   "source": [
    "exp_df = data[data.profit>0].explode('genres_lst').genres_lst.value_counts().reset_index()\n",
    "max_profit_genres = exp_df['index'].iloc[0]\n",
    "max_profit_genres_count = exp_df['genres_lst'].iloc[0]\n",
    "print('Больше всего прибыльных фильмов из жанра {}. Их число {}'.format(max_profit_genres,max_profit_genres_count))"
   ]
  },
  {
   "cell_type": "markdown",
   "metadata": {
    "colab_type": "text",
    "id": "0F23bgsDVp_U"
   },
   "source": [
    "# 13. У какого режиссера самые большие суммарные кассовые сбооры?"
   ]
  },
  {
   "cell_type": "code",
   "execution_count": 102,
   "metadata": {},
   "outputs": [],
   "source": [
    "# \"+\"\n",
    "answers['13'] = 'Peter Jackson'"
   ]
  },
  {
   "cell_type": "code",
   "execution_count": 103,
   "metadata": {
    "colab": {},
    "colab_type": "code",
    "id": "K6Z3J8ygVp_X"
   },
   "outputs": [
    {
     "name": "stdout",
     "output_type": "stream",
     "text": [
      "Cамые большие суммарные кассовые сборы у режиссера Peter Jackson\n"
     ]
    }
   ],
   "source": [
    "exp_df = data.explode('director_lst')\n",
    "max_revenue_director = exp_df.groupby('director_lst')['revenue'].sum().sort_values(ascending=False).index[0]\n",
    "print('Cамые большие суммарные кассовые сборы у режиссера {}'.format(max_revenue_director))"
   ]
  },
  {
   "cell_type": "markdown",
   "metadata": {
    "colab_type": "text",
    "id": "PsYC9FgRVp_a"
   },
   "source": [
    "# 14. Какой режисер снял больше всего фильмов в стиле Action?"
   ]
  },
  {
   "cell_type": "code",
   "execution_count": 104,
   "metadata": {
    "colab": {},
    "colab_type": "code",
    "id": "wd2M-wHeVp_b"
   },
   "outputs": [],
   "source": [
    "# \"+\"\n",
    "answers['14'] = 'Robert Rodriguez'"
   ]
  },
  {
   "cell_type": "code",
   "execution_count": 105,
   "metadata": {},
   "outputs": [
    {
     "name": "stdout",
     "output_type": "stream",
     "text": [
      "Режиссер, снявший больше всего фильмов Action Robert Rodriguez\n"
     ]
    }
   ],
   "source": [
    "action_df = data[data.genres.str.contains('Action')]\n",
    "max_action_director = action_df.explode('director_lst').director_lst.value_counts().index[0]\n",
    "# Или такой вариант \n",
    "# max_action_director = Counter(action_df.director.str.cat(sep='|').split('|')).most_common()[0][0]\n",
    "print('Режиссер, снявший больше всего фильмов Action {}'.format(max_action_director))"
   ]
  },
  {
   "cell_type": "markdown",
   "metadata": {
    "colab_type": "text",
    "id": "PQ0KciD7Vp_f"
   },
   "source": [
    "# 15. Фильмы с каким актером принесли самые высокие кассовые сборы в 2012 году? "
   ]
  },
  {
   "cell_type": "code",
   "execution_count": 106,
   "metadata": {
    "colab": {},
    "colab_type": "code",
    "id": "aga62oeKVp_g"
   },
   "outputs": [],
   "source": [
    "# \"+\"\n",
    "answers['15'] = 'Chris Hemsworth'"
   ]
  },
  {
   "cell_type": "code",
   "execution_count": 107,
   "metadata": {},
   "outputs": [
    {
     "name": "stdout",
     "output_type": "stream",
     "text": [
      "Режиссер, снявший больше всего фильмов Action Robert Rodriguez\n"
     ]
    }
   ],
   "source": [
    "df = data[data.release_year == 2012].explode('cast_lst')\n",
    "max_revenue_actor = df.groupby('cast_lst').revenue.sum().sort_values(ascending = False).index[0]\n",
    "print('Режиссер, снявший больше всего фильмов Action {}'.format(max_action_director))"
   ]
  },
  {
   "cell_type": "markdown",
   "metadata": {
    "colab_type": "text",
    "id": "mWHyyL7QVp_j"
   },
   "source": [
    "# 16. Какой актер снялся в большем количестве высокобюджетных фильмов?"
   ]
  },
  {
   "cell_type": "code",
   "execution_count": 108,
   "metadata": {
    "colab": {},
    "colab_type": "code",
    "id": "qQtmHKTFVp_k"
   },
   "outputs": [],
   "source": [
    "# \"+\"\n",
    "answers['16'] = 'Matt Damon'"
   ]
  },
  {
   "cell_type": "code",
   "execution_count": 109,
   "metadata": {},
   "outputs": [
    {
     "name": "stdout",
     "output_type": "stream",
     "text": [
      "Matt Damon снялся в большем количестве высокобюджетных фильмов\n"
     ]
    }
   ],
   "source": [
    "df = data[data.budget > data.budget.mean()]\n",
    "max_budget_actor = df.explode('cast_lst').cast_lst.value_counts().index[0]\n",
    "print('{} снялся в большем количестве высокобюджетных фильмов'.format(max_budget_actor))"
   ]
  },
  {
   "cell_type": "markdown",
   "metadata": {
    "colab_type": "text",
    "id": "NIh6AaW5Vp_n"
   },
   "source": [
    "# 17. В фильмах какого жанра больше всего снимался Nicolas Cage? "
   ]
  },
  {
   "cell_type": "code",
   "execution_count": 110,
   "metadata": {
    "colab": {},
    "colab_type": "code",
    "id": "H74SJDIBVp_n"
   },
   "outputs": [],
   "source": [
    "# \"+\"\n",
    "answers['17'] = 'Action'"
   ]
  },
  {
   "cell_type": "code",
   "execution_count": 111,
   "metadata": {},
   "outputs": [
    {
     "name": "stdout",
     "output_type": "stream",
     "text": [
      "Nicolas Cage cнялся больше всего в Action\n"
     ]
    }
   ],
   "source": [
    "df = data[data.cast.str.contains('Nicolas Cage')]\n",
    "genre_Nic = df.explode('genres_lst').genres_lst.value_counts().index[0]\n",
    "print('Nicolas Cage cнялся больше всего в {}'.format(genre_Nic))"
   ]
  },
  {
   "cell_type": "markdown",
   "metadata": {
    "colab_type": "text",
    "id": "RqOmPRfWVp_q"
   },
   "source": [
    "# 18. Самый убыточный фильм от Paramount Pictures"
   ]
  },
  {
   "cell_type": "code",
   "execution_count": 112,
   "metadata": {
    "colab": {},
    "colab_type": "code",
    "id": "9E_B0Y96Vp_r"
   },
   "outputs": [],
   "source": [
    "# \"+\"\n",
    "answers['18'] = 'K-19: The Widowmaker'"
   ]
  },
  {
   "cell_type": "code",
   "execution_count": 113,
   "metadata": {},
   "outputs": [
    {
     "name": "stdout",
     "output_type": "stream",
     "text": [
      "Самый убыточный фильм от Paramount Pictures K-19: The Widowmaker\n"
     ]
    }
   ],
   "source": [
    "df = data[data.production_companies.str.contains('Paramount Pictures')]\n",
    "min_profit_paramount = df[df.profit == df.profit.min()].original_title.values[0]\n",
    "print('Самый убыточный фильм от Paramount Pictures {}'.format(min_profit_paramount))"
   ]
  },
  {
   "cell_type": "markdown",
   "metadata": {
    "colab_type": "text",
    "id": "vS8Ur6ddVp_u"
   },
   "source": [
    "# 19. Какой год стал самым успешным по суммарным кассовым сборам?"
   ]
  },
  {
   "cell_type": "code",
   "execution_count": 114,
   "metadata": {
    "colab": {},
    "colab_type": "code",
    "id": "Dnbt4GdIVp_v"
   },
   "outputs": [],
   "source": [
    "# \"+\"\n",
    "answers['19'] = 2015"
   ]
  },
  {
   "cell_type": "code",
   "execution_count": 115,
   "metadata": {},
   "outputs": [
    {
     "name": "stdout",
     "output_type": "stream",
     "text": [
      "Самый успешный год по суммарным кассовым сборам 2015\n"
     ]
    }
   ],
   "source": [
    "max_revenue_year = data.groupby('release_year').revenue.sum().sort_values(ascending = False).index[0]\n",
    "print('Самый успешный год по суммарным кассовым сборам {}'.format(max_revenue_year))"
   ]
  },
  {
   "cell_type": "markdown",
   "metadata": {
    "colab_type": "text",
    "id": "JAzJh4QAVp_z"
   },
   "source": [
    "# 20. Какой самый прибыльный год для студии Warner Bros?"
   ]
  },
  {
   "cell_type": "code",
   "execution_count": 116,
   "metadata": {
    "colab": {},
    "colab_type": "code",
    "id": "wgVu02DEVp_0"
   },
   "outputs": [],
   "source": [
    "# \"+\"\n",
    "answers['20'] = 2014"
   ]
  },
  {
   "cell_type": "code",
   "execution_count": 117,
   "metadata": {},
   "outputs": [
    {
     "name": "stdout",
     "output_type": "stream",
     "text": [
      "Самый успешный год студии WB по суммарным кассовым сборам 2014\n"
     ]
    }
   ],
   "source": [
    "df = data[data.production_companies.str.contains('Warner Bros')]\n",
    "max_revenue_wb_year = df.groupby('release_year').revenue.sum().sort_values(ascending = False).index[0]\n",
    "print('Самый успешный год студии WB по суммарным кассовым сборам {}'.format(max_revenue_wb_year))"
   ]
  },
  {
   "cell_type": "markdown",
   "metadata": {
    "colab_type": "text",
    "id": "8Im1S2HRVp_4"
   },
   "source": [
    "# 21. В каком месяце за все годы суммарно вышло больше всего фильмов?"
   ]
  },
  {
   "cell_type": "code",
   "execution_count": 118,
   "metadata": {},
   "outputs": [],
   "source": [
    "# \"+\"\n",
    "answers['21'] = 'Сентябрь'"
   ]
  },
  {
   "cell_type": "code",
   "execution_count": 119,
   "metadata": {
    "colab": {},
    "colab_type": "code",
    "id": "lev6TH7gVp_4"
   },
   "outputs": [
    {
     "name": "stdout",
     "output_type": "stream",
     "text": [
      "Суммарно вышло больше всего фильмов в месяце 9\n"
     ]
    }
   ],
   "source": [
    "max_release_month = data.dt_release_date.dt.month.value_counts().index[0]\n",
    "print('Суммарно вышло больше всего фильмов в месяце {}'.format(max_release_month))"
   ]
  },
  {
   "cell_type": "markdown",
   "metadata": {
    "colab_type": "text",
    "id": "uAJsZ_NeVp_7"
   },
   "source": [
    "# 22. Сколько суммарно вышло фильмов летом? (за июнь, июль, август)"
   ]
  },
  {
   "cell_type": "code",
   "execution_count": 120,
   "metadata": {
    "colab": {},
    "colab_type": "code",
    "id": "Aa-hEREoVp_8"
   },
   "outputs": [],
   "source": [
    "# \"+\"\n",
    "answers['22'] = 450"
   ]
  },
  {
   "cell_type": "code",
   "execution_count": 121,
   "metadata": {
    "scrolled": true
   },
   "outputs": [
    {
     "name": "stdout",
     "output_type": "stream",
     "text": [
      "Суммарно вышло вышло фильмов летом 450\n"
     ]
    }
   ],
   "source": [
    "summer_count = data.query('dt_release_date.dt.month in [6,7,8]').count()[0]\n",
    "print('Суммарно вышло вышло фильмов летом {}'.format(summer_count))"
   ]
  },
  {
   "cell_type": "markdown",
   "metadata": {
    "colab_type": "text",
    "id": "G94ppOY1VqAA"
   },
   "source": [
    "# 23. Для какого режиссера зима – самое продуктивное время года? "
   ]
  },
  {
   "cell_type": "code",
   "execution_count": 122,
   "metadata": {
    "colab": {},
    "colab_type": "code",
    "id": "RhNTsamuVqAB"
   },
   "outputs": [],
   "source": [
    "# \"+\"\n",
    "answers['23'] = 'Peter Jackson'"
   ]
  },
  {
   "cell_type": "code",
   "execution_count": 123,
   "metadata": {},
   "outputs": [
    {
     "name": "stdout",
     "output_type": "stream",
     "text": [
      "Самое продуктивное время года для режиссера Peter Jackson\n"
     ]
    }
   ],
   "source": [
    "df = data.query('dt_release_date.dt.month in [1,2,12]')\n",
    "df = df.explode('director_lst')\n",
    "winter_soon_director = df.director_lst.value_counts().index[0]\n",
    "print('Самое продуктивное время года для режиссера {}'.format(winter_soon_director))"
   ]
  },
  {
   "cell_type": "markdown",
   "metadata": {
    "colab_type": "text",
    "id": "RBo0JVjVVqAF"
   },
   "source": [
    "# 24. Какая студия дает самые длинные названия своим фильмам по количеству символов?"
   ]
  },
  {
   "cell_type": "code",
   "execution_count": 124,
   "metadata": {
    "colab": {},
    "colab_type": "code",
    "id": "QRGS8L0iVqAG"
   },
   "outputs": [],
   "source": [
    "# \"+\"\n",
    "answers['24'] = 'Four By Two Productions'"
   ]
  },
  {
   "cell_type": "code",
   "execution_count": 125,
   "metadata": {},
   "outputs": [
    {
     "name": "stdout",
     "output_type": "stream",
     "text": [
      "Самые длинные названия своим фильмам по количеству символов дает студия Four By Two Productions\n"
     ]
    }
   ],
   "source": [
    "df = data.explode('prod_lst')\n",
    "prod_group = df.groupby('prod_lst')\n",
    "max_len_prod = prod_group['title_len'].mean().sort_values(ascending = False).index[0]\n",
    "print('Самые длинные названия своим фильмам по количеству символов дает студия {}'.format(max_len_prod))"
   ]
  },
  {
   "cell_type": "markdown",
   "metadata": {
    "colab_type": "text",
    "id": "9G0hbvR7VqAK"
   },
   "source": [
    "# 25. Описание фильмов какой студии в среднем самые длинные по количеству слов?"
   ]
  },
  {
   "cell_type": "code",
   "execution_count": 126,
   "metadata": {
    "colab": {},
    "colab_type": "code",
    "id": "Ge2GsLNxVqAK"
   },
   "outputs": [],
   "source": [
    "# \"+\"\n",
    "answers['25'] = 'Midnight Picture Show'"
   ]
  },
  {
   "cell_type": "code",
   "execution_count": 127,
   "metadata": {},
   "outputs": [
    {
     "name": "stdout",
     "output_type": "stream",
     "text": [
      "Самые длинные описания фильмов по количеству слов у студии Midnight Picture Show\n"
     ]
    }
   ],
   "source": [
    "df = data.explode('prod_lst')\n",
    "prod_group = df.groupby('prod_lst')\n",
    "max_len_overview_prod = prod_group['overview_len'].mean().sort_values(ascending = False).index[0]\n",
    "print('Самые длинные описания фильмов по количеству слов у студии {}'.format(max_len_overview_prod))"
   ]
  },
  {
   "cell_type": "markdown",
   "metadata": {
    "colab_type": "text",
    "id": "FJ1AFt90VqAP"
   },
   "source": [
    "# 26. Какие фильмы входят в 1 процент лучших по рейтингу? \n",
    "по vote_average"
   ]
  },
  {
   "cell_type": "code",
   "execution_count": 128,
   "metadata": {
    "colab": {},
    "colab_type": "code",
    "id": "8qmJVq4CVqAQ"
   },
   "outputs": [],
   "source": [
    "# \"+\"\n",
    "answers['26'] = 'Inside Out, The Dark Knight, 12 Years a Slave'"
   ]
  },
  {
   "cell_type": "code",
   "execution_count": 129,
   "metadata": {},
   "outputs": [
    {
     "data": {
      "text/plain": [
       "['Inside Out',\n",
       " 'Room',\n",
       " 'Interstellar',\n",
       " 'Guardians of the Galaxy',\n",
       " 'The Imitation Game',\n",
       " 'Gone Girl',\n",
       " 'The Grand Budapest Hotel',\n",
       " 'Inception',\n",
       " 'The Dark Knight',\n",
       " 'The Pianist',\n",
       " 'The Lord of the Rings: The Return of the King',\n",
       " 'The Wolf of Wall Street',\n",
       " '12 Years a Slave',\n",
       " 'Memento']"
      ]
     },
     "execution_count": 129,
     "metadata": {},
     "output_type": "execute_result"
    }
   ],
   "source": [
    "#Отбираем фильмы, вошедшие в 1% квантриль сверху по признаку vote_average\n",
    "answer_lst = data[data.vote_average > data.vote_average.quantile(0.99)]['original_title'].tolist()\n",
    "answer_lst"
   ]
  },
  {
   "cell_type": "markdown",
   "metadata": {
    "colab_type": "text",
    "id": "MdXsUXbCVqAV"
   },
   "source": [
    "# 27. Какие актеры чаще всего снимаются в одном фильме вместе?\n"
   ]
  },
  {
   "cell_type": "code",
   "execution_count": 130,
   "metadata": {},
   "outputs": [],
   "source": [
    "# \"+\"\n",
    "answers['27'] = 'Daniel Radcliffe, Rupert Grint'"
   ]
  },
  {
   "cell_type": "markdown",
   "metadata": {},
   "source": [
    "ВАРИАНТ 1"
   ]
  },
  {
   "cell_type": "code",
   "execution_count": 131,
   "metadata": {
    "scrolled": true
   },
   "outputs": [
    {
     "data": {
      "text/plain": [
       "[Emma Watson, Rupert Grint]            8\n",
       "[Daniel Radcliffe, Rupert Grint]       8\n",
       "[Daniel Radcliffe, Emma Watson]        8\n",
       "[Ben Stiller, Owen Wilson]             6\n",
       "[Helena Bonham Carter, Johnny Depp]    6\n",
       "                                      ..\n",
       "[Rachel Nichols, Stephen Lang]         1\n",
       "[Claire Forlani, Richard Roundtree]    1\n",
       "[Columbus Short, Ne-Yo]                1\n",
       "[Jake Gyllenhaal, Russell Peters]      1\n",
       "[Adam Goldberg, Val Kilmer]            1\n",
       "Name: cast_pairs, Length: 17943, dtype: int64"
      ]
     },
     "execution_count": 131,
     "metadata": {},
     "output_type": "execute_result"
    }
   ],
   "source": [
    "# Вариант с использованием размножения строк (explode)\n",
    "\n",
    "df = data['cast_lst'].apply(lambda x: list(itertools.combinations(x,2)))\n",
    "df = pd.DataFrame({'cast_pairs': df.values})\n",
    "df['cast_pairs_len'] = df.cast_pairs.apply(lambda x: len(x))\n",
    "# Исключаем фильмы, где указан только один актер. \n",
    "# В этих случаях itertools.combinations возвращает пустую строку, что вызывает ошибку в дальнейшей обработке\n",
    "df = df[df.cast_pairs_len > 1]\n",
    "df = df.explode('cast_pairs')\n",
    "# Сортируем комбинации, чтобы пары с одним набором актеров, но разным порядком считались одной комбинацией\n",
    "df['cast_pairs'] = df.cast_pairs.apply(lambda x: sorted(x))\n",
    "df.cast_pairs.value_counts()\n"
   ]
  },
  {
   "cell_type": "markdown",
   "metadata": {},
   "source": [
    "ВАРИАНТ 2"
   ]
  },
  {
   "cell_type": "code",
   "execution_count": 132,
   "metadata": {},
   "outputs": [
    {
     "data": {
      "text/plain": [
       "[(('Daniel Radcliffe', 'Rupert Grint'), 8),\n",
       " (('Daniel Radcliffe', 'Emma Watson'), 8),\n",
       " (('Emma Watson', 'Rupert Grint'), 8),\n",
       " (('Ben Stiller', 'Owen Wilson'), 6),\n",
       " (('Helena Bonham Carter', 'Johnny Depp'), 6),\n",
       " (('Paul Walker', 'Vin Diesel'), 5),\n",
       " (('Adam Sandler', 'Kevin James'), 5),\n",
       " (('Hugh Jackman', 'Ian McKellen'), 5),\n",
       " (('Kristen Stewart', 'Robert Pattinson'), 5),\n",
       " (('Kristen Stewart', 'Taylor Lautner'), 5),\n",
       " (('Robert Pattinson', 'Taylor Lautner'), 5),\n",
       " (('Chris Evans', 'Scarlett Johansson'), 4),\n",
       " (('Jennifer Lawrence', 'Josh Hutcherson'), 4),\n",
       " (('Jennifer Lawrence', 'Liam Hemsworth'), 4),\n",
       " (('Jennifer Lawrence', 'Woody Harrelson'), 4),\n",
       " (('Josh Hutcherson', 'Liam Hemsworth'), 4),\n",
       " (('Josh Hutcherson', 'Woody Harrelson'), 4),\n",
       " (('Liam Hemsworth', 'Woody Harrelson'), 4),\n",
       " (('Hugh Jackman', 'Patrick Stewart'), 4),\n",
       " (('Ian McKellen', 'Patrick Stewart'), 4),\n",
       " (('George Clooney', 'Matt Damon'), 4),\n",
       " (('Bradley Cooper', 'Justin Bartha'), 4),\n",
       " (('Costas Mandylor', 'Tobin Bell'), 4),\n",
       " (('Betsy Russell', 'Tobin Bell'), 4),\n",
       " (('Betsy Russell', 'Costas Mandylor'), 4),\n",
       " (('Jordana Brewster', 'Vin Diesel'), 4),\n",
       " (('Jordana Brewster', 'Paul Walker'), 4),\n",
       " (('Eddie Murphy', 'Mike Myers'), 4),\n",
       " (('Cameron Diaz', 'Mike Myers'), 4),\n",
       " (('Cameron Diaz', 'Eddie Murphy'), 4),\n",
       " (('Kristen Stewart', 'Peter Facinelli'), 4),\n",
       " (('Peter Facinelli', 'Robert Pattinson'), 4),\n",
       " (('Peter Facinelli', 'Taylor Lautner'), 4),\n",
       " (('Paul Rudd', 'Steve Carell'), 4),\n",
       " (('Brad Pitt', 'George Clooney'), 4),\n",
       " (('Brad Pitt', 'Julia Roberts'), 4),\n",
       " (('Halle Berry', 'Hugh Jackman'), 4),\n",
       " (('Christian Bale', 'Michael Caine'), 4),\n",
       " (('Michelle Rodriguez', 'Vin Diesel'), 3),\n",
       " (('Dwayne Johnson', 'Vin Diesel'), 3),\n",
       " (('Michelle Rodriguez', 'Paul Walker'), 3),\n",
       " (('Dwayne Johnson', 'Paul Walker'), 3),\n",
       " (('Mark Ruffalo', 'Robert Downey Jr.'), 3),\n",
       " (('Robert Downey Jr.', 'Scarlett Johansson'), 3),\n",
       " (('Liam Neeson', 'Maggie Grace'), 3),\n",
       " (('Famke Janssen', 'Liam Neeson'), 3),\n",
       " (('Famke Janssen', 'Maggie Grace'), 3),\n",
       " (('Elizabeth Banks', 'Jennifer Lawrence'), 3),\n",
       " (('Elizabeth Banks', 'Josh Hutcherson'), 3),\n",
       " (('Elizabeth Banks', 'Liam Hemsworth'), 3),\n",
       " (('Elizabeth Banks', 'Woody Harrelson'), 3),\n",
       " (('Tom Cruise', 'Ving Rhames'), 3),\n",
       " (('Giovanni Ribisi', 'Mark Wahlberg'), 3),\n",
       " (('Johnny Depp', 'Paul Bettany'), 3),\n",
       " (('Adam Sandler', 'Steve Buscemi'), 3),\n",
       " (('Ian McKellen', 'Martin Freeman'), 3),\n",
       " (('Martin Freeman', 'Richard Armitage'), 3),\n",
       " (('Ian McKellen', 'Richard Armitage'), 3),\n",
       " (('Ben Stiller', 'Robin Williams'), 3),\n",
       " (('Jason Bateman', 'Jennifer Aniston'), 3),\n",
       " (('James Franco', 'Seth Rogen'), 3),\n",
       " (('Jay Baruchel', 'Jonah Hill'), 3),\n",
       " (('Jason Statham', 'Sylvester Stallone'), 3),\n",
       " (('Arnold Schwarzenegger', 'Sylvester Stallone'), 3),\n",
       " (('Jennifer Connelly', 'Russell Crowe'), 3),\n",
       " (('Ashley Judd', 'Morgan Freeman'), 3),\n",
       " (('Bradley Cooper', 'Ed Helms'), 3),\n",
       " (('Bradley Cooper', 'Zach Galifianakis'), 3),\n",
       " (('Ed Helms', 'Zach Galifianakis'), 3),\n",
       " (('Ed Helms', 'Justin Bartha'), 3),\n",
       " (('Justin Bartha', 'Zach Galifianakis'), 3),\n",
       " (('Ashley Greene', 'Kristen Stewart'), 3),\n",
       " (('Ashley Greene', 'Robert Pattinson'), 3),\n",
       " (('Ashley Greene', 'Taylor Lautner'), 3),\n",
       " (('Paul Rudd', 'Seth Rogen'), 3),\n",
       " (('Bradley Cooper', 'Ken Jeong'), 3),\n",
       " (('David Cross', 'Jason Lee'), 3),\n",
       " (('David Cross', 'Justin Long'), 3),\n",
       " (('Jason Lee', 'Justin Long'), 3),\n",
       " (('Jason Segel', 'Paul Rudd'), 3),\n",
       " (('Josh Duhamel', 'Shia LaBeouf'), 3),\n",
       " (('Jonah Hill', 'Seth Rogen'), 3),\n",
       " (('Gwyneth Paltrow', 'Robert Downey Jr.'), 3),\n",
       " (('Daniel Radcliffe', 'Ralph Fiennes'), 3),\n",
       " (('Emma Watson', 'Ralph Fiennes'), 3),\n",
       " (('Ralph Fiennes', 'Rupert Grint'), 3),\n",
       " (('Georgie Henley', 'Skandar Keynes'), 3),\n",
       " (('Ben Stiller', 'Robert De Niro'), 3),\n",
       " (('Antonio Banderas', 'Mike Myers'), 3),\n",
       " (('Julie Andrews', 'Mike Myers'), 3),\n",
       " (('Antonio Banderas', 'Eddie Murphy'), 3),\n",
       " (('Eddie Murphy', 'Julie Andrews'), 3),\n",
       " (('Antonio Banderas', 'Cameron Diaz'), 3),\n",
       " (('Cameron Diaz', 'Julie Andrews'), 3),\n",
       " (('Antonio Banderas', 'Julie Andrews'), 3),\n",
       " (('Emily Blunt', 'Jason Segel'), 3),\n",
       " (('Steve Zahn', 'Zachary Gordon'), 3),\n",
       " (('Rachael Harris', 'Zachary Gordon'), 3),\n",
       " (('Rachael Harris', 'Steve Zahn'), 3),\n",
       " (('Elijah Wood', 'Ian McKellen'), 3),\n",
       " (('Elijah Wood', 'Viggo Mortensen'), 3),\n",
       " (('Elijah Wood', 'Liv Tyler'), 3),\n",
       " (('Elijah Wood', 'Orlando Bloom'), 3),\n",
       " (('Ian McKellen', 'Viggo Mortensen'), 3),\n",
       " (('Ian McKellen', 'Liv Tyler'), 3),\n",
       " (('Ian McKellen', 'Orlando Bloom'), 3),\n",
       " (('Liv Tyler', 'Viggo Mortensen'), 3),\n",
       " (('Orlando Bloom', 'Viggo Mortensen'), 3),\n",
       " (('Liv Tyler', 'Orlando Bloom'), 3),\n",
       " (('Jason Biggs', 'Thomas Ian Nicholas'), 3),\n",
       " (('Jason Biggs', 'Seann William Scott'), 3),\n",
       " (('Seann William Scott', 'Thomas Ian Nicholas'), 3),\n",
       " (('Marlon Wayans', 'Shawn Wayans'), 3),\n",
       " (('Alexa PenaVega', 'Daryl Sabara'), 3),\n",
       " (('Alexa PenaVega', 'Antonio Banderas'), 3),\n",
       " (('Alexa PenaVega', 'Carla Gugino'), 3),\n",
       " (('Antonio Banderas', 'Daryl Sabara'), 3),\n",
       " (('Carla Gugino', 'Daryl Sabara'), 3),\n",
       " (('Antonio Banderas', 'Carla Gugino'), 3),\n",
       " (('Christian Bale', 'Gary Oldman'), 3),\n",
       " (('Gary Oldman', 'Michael Caine'), 3),\n",
       " (('Daniel Craig', 'Judi Dench'), 3),\n",
       " (('Angelina Jolie', 'Jack Black'), 3),\n",
       " (('Ben Stiller', 'David Schwimmer'), 3),\n",
       " (('Ben Stiller', 'Chris Rock'), 3),\n",
       " (('Chris Rock', 'David Schwimmer'), 3),\n",
       " (('John Hurt', 'Ron Perlman'), 3),\n",
       " (('Hayden Christensen', 'Samuel L. Jackson'), 3),\n",
       " (('FranÃ§ois BerlÃ©and', 'Jason Statham'), 3),\n",
       " (('Danny McBride', 'James Franco'), 3),\n",
       " (('John Cho', 'Kal Penn'), 3),\n",
       " (('John Cho', 'Neil Patrick Harris'), 3),\n",
       " (('Kal Penn', 'Neil Patrick Harris'), 3),\n",
       " (('Amy Adams', 'Philip Seymour Hoffman'), 3),\n",
       " (('Geoffrey Rush', 'Johnny Depp'), 3),\n",
       " (('Bill Nighy', 'Johnny Depp'), 3),\n",
       " (('Jude Law', 'Kate Winslet'), 3),\n",
       " (('John Leguizamo', 'Ray Romano'), 3),\n",
       " (('Denis Leary', 'Ray Romano'), 3),\n",
       " (('Denis Leary', 'John Leguizamo'), 3),\n",
       " (('Kirsten Dunst', 'Tobey Maguire'), 3),\n",
       " (('James Franco', 'Tobey Maguire'), 3),\n",
       " (('James Franco', 'Kirsten Dunst'), 3),\n",
       " (('Spencer Breslin', 'Tim Allen'), 3),\n",
       " (('Denzel Washington', 'Kimberly Elise'), 3),\n",
       " (('Ice Cube', 'Mike Epps'), 3),\n",
       " (('Johnny Depp', 'Orlando Bloom'), 3),\n",
       " (('Johnny Depp', 'Keira Knightley'), 3),\n",
       " (('Keira Knightley', 'Orlando Bloom'), 3),\n",
       " (('Halle Berry', 'Patrick Stewart'), 3),\n",
       " (('Famke Janssen', 'Patrick Stewart'), 3),\n",
       " (('Famke Janssen', 'Hugh Jackman'), 3),\n",
       " (('Halle Berry', 'Ian McKellen'), 3),\n",
       " (('Famke Janssen', 'Ian McKellen'), 3),\n",
       " (('Famke Janssen', 'Halle Berry'), 3),\n",
       " (('Owen Wilson', 'Vince Vaughn'), 3),\n",
       " (('Bruce Willis', 'Kevin Pollak'), 3),\n",
       " (('Shailene Woodley', 'Theo James'), 2),\n",
       " (('Kate Winslet', 'Shailene Woodley'), 2),\n",
       " (('Ansel Elgort', 'Shailene Woodley'), 2),\n",
       " (('Miles Teller', 'Shailene Woodley'), 2),\n",
       " (('Kate Winslet', 'Theo James'), 2),\n",
       " (('Miles Teller', 'Theo James'), 2),\n",
       " (('Kate Winslet', 'Miles Teller'), 2),\n",
       " (('Leonardo DiCaprio', 'Tom Hardy'), 2),\n",
       " (('Daniel Craig', 'Ralph Fiennes'), 2),\n",
       " (('Chris Hemsworth', 'Robert Downey Jr.'), 2),\n",
       " (('Chris Evans', 'Robert Downey Jr.'), 2),\n",
       " (('Chris Hemsworth', 'Mark Ruffalo'), 2),\n",
       " (('Chris Evans', 'Chris Hemsworth'), 2),\n",
       " (('Chris Hemsworth', 'Scarlett Johansson'), 2),\n",
       " (('Chris Evans', 'Mark Ruffalo'), 2),\n",
       " (('Mark Ruffalo', 'Scarlett Johansson'), 2),\n",
       " (('Carla Gugino', 'Dwayne Johnson'), 2),\n",
       " (('Christian Bale', 'Melissa Leo'), 2),\n",
       " (('Ryan Gosling', 'Steve Carell'), 2),\n",
       " (('Jeremy Renner', 'Tom Cruise'), 2),\n",
       " (('Simon Pegg', 'Tom Cruise'), 2),\n",
       " (('Jeremy Renner', 'Simon Pegg'), 2),\n",
       " (('Mark Wahlberg', 'Seth MacFarlane'), 2),\n",
       " (('Giovanni Ribisi', 'Seth MacFarlane'), 2),\n",
       " ((\"Dylan O'Brien\", 'Kaya Scodelario'), 2),\n",
       " (('Anna Kendrick', 'Rebel Wilson'), 2),\n",
       " (('Anna Kendrick', 'Brittany Snow'), 2),\n",
       " (('Anna Kendrick', 'Skylar Astin'), 2),\n",
       " (('Brittany Snow', 'Rebel Wilson'), 2),\n",
       " (('Rebel Wilson', 'Skylar Astin'), 2),\n",
       " (('Brittany Snow', 'Skylar Astin'), 2),\n",
       " (('Boyd Holbrook', 'Liam Neeson'), 2),\n",
       " (('Jim Parsons', 'Steve Martin'), 2),\n",
       " (('Rene Russo', 'Robert De Niro'), 2),\n",
       " (('Delroy Lindo', 'Edgar RamÃ\\xadrez'), 2),\n",
       " (('Bradley Cooper', 'Sienna Miller'), 2),\n",
       " (('Michael B. Jordan', 'Miles Teller'), 2),\n",
       " (('Bobby Cannavale', 'Rose Byrne'), 2),\n",
       " (('Ben Whishaw', 'Brendan Gleeson'), 2),\n",
       " (('Amanda Seyfried', 'Hugh Jackman'), 2),\n",
       " (('Joseph Gordon-Levitt', 'Seth Rogen'), 2),\n",
       " (('Lizzy Caplan', 'Seth Rogen'), 2),\n",
       " (('Adam Sandler', 'Andy Samberg'), 2),\n",
       " (('Adam Sandler', 'Selena Gomez'), 2),\n",
       " (('Kevin James', 'Selena Gomez'), 2),\n",
       " (('Selena Gomez', 'Steve Buscemi'), 2),\n",
       " (('Kevin James', 'Steve Buscemi'), 2),\n",
       " (('Alan Arkin', 'John Goodman'), 2),\n",
       " (('Gary Oldman', 'Tom Hardy'), 2),\n",
       " (('Gary Oldman', 'Joel Kinnaman'), 2),\n",
       " (('Mark Wahlberg', 'Will Ferrell'), 2),\n",
       " (('Kevin James', 'Raini Rodriguez'), 2),\n",
       " (('Amy Poehler', 'Tina Fey'), 2),\n",
       " (('Jessica Chastain', 'Mia Wasikowska'), 2),\n",
       " (('Bill Fagerbakke', 'Tom Kenny'), 2),\n",
       " (('Rodger Bumpass', 'Tom Kenny'), 2),\n",
       " (('Clancy Brown', 'Tom Kenny'), 2),\n",
       " (('Carolyn Lawrence', 'Tom Kenny'), 2),\n",
       " (('Bill Fagerbakke', 'Rodger Bumpass'), 2),\n",
       " (('Bill Fagerbakke', 'Clancy Brown'), 2),\n",
       " (('Bill Fagerbakke', 'Carolyn Lawrence'), 2),\n",
       " (('Clancy Brown', 'Rodger Bumpass'), 2),\n",
       " (('Carolyn Lawrence', 'Rodger Bumpass'), 2),\n",
       " (('Carolyn Lawrence', 'Clancy Brown'), 2),\n",
       " (('Morris Chestnut', 'Sanaa Lathan'), 2),\n",
       " (('Bill Murray', 'Bruce Willis'), 2),\n",
       " (('Anne Hathaway', 'Michael Caine'), 2),\n",
       " (('Bradley Cooper', 'Zoe Saldana'), 2),\n",
       " (('Chris Evans', 'Sebastian Stan'), 2),\n",
       " (('Samuel L. Jackson', 'Scarlett Johansson'), 2),\n",
       " (('Ken Stott', 'Martin Freeman'), 2),\n",
       " (('Graham McTavish', 'Martin Freeman'), 2),\n",
       " (('Ian McKellen', 'Ken Stott'), 2),\n",
       " (('Graham McTavish', 'Ian McKellen'), 2),\n",
       " (('Ken Stott', 'Richard Armitage'), 2),\n",
       " (('Graham McTavish', 'Richard Armitage'), 2),\n",
       " (('Graham McTavish', 'Ken Stott'), 2),\n",
       " (('Owen Wilson', 'Robin Williams'), 2),\n",
       " (('James McAvoy', 'Patrick Stewart'), 2),\n",
       " (('James McAvoy', 'Michael Fassbender'), 2),\n",
       " (('Megan Fox', 'Will Arnett'), 2),\n",
       " (('Cameron Diaz', 'Jason Segel'), 2),\n",
       " (('Mark Wahlberg', 'Stanley Tucci'), 2),\n",
       " (('Andy Serkis', 'Judy Greer'), 2),\n",
       " (('Jason Bateman', 'Jason Sudeikis'), 2),\n",
       " (('Charlie Day', 'Jason Bateman'), 2),\n",
       " (('Charlie Day', 'Jason Sudeikis'), 2),\n",
       " (('Jason Sudeikis', 'Jennifer Aniston'), 2),\n",
       " (('Charlie Day', 'Jennifer Aniston'), 2),\n",
       " (('Andrew Garfield', 'Emma Stone'), 2),\n",
       " (('James Franco', 'Lizzy Caplan'), 2),\n",
       " (('Gerard Butler', 'Jay Baruchel'), 2),\n",
       " (('Gerard Butler', 'Jonah Hill'), 2),\n",
       " (('Arnold Schwarzenegger', 'Jason Statham'), 2),\n",
       " (('Emily Blunt', 'Meryl Streep'), 2),\n",
       " (('David Wenham', 'Lena Headey'), 2),\n",
       " (('Channing Tatum', 'Jonah Hill'), 2),\n",
       " (('Dave Franco', 'Jonah Hill'), 2),\n",
       " (('Channing Tatum', 'Dave Franco'), 2),\n",
       " (('Ben Whishaw', 'Michael Gambon'), 2),\n",
       " (('Logan Lerman', 'Russell Crowe'), 2),\n",
       " (('Emma Watson', 'Logan Lerman'), 2),\n",
       " (('Adam Sandler', 'Drew Barrymore'), 2),\n",
       " (('Dave Franco', 'Zac Efron'), 2),\n",
       " (('Ryan Guzman', 'Stephen Boss'), 2),\n",
       " (('Joaquin Phoenix', 'Reese Witherspoon'), 2),\n",
       " (('Owen Wilson', 'Reese Witherspoon'), 2),\n",
       " (('Julianne Moore', 'Liam Neeson'), 2),\n",
       " (('Jessica Alba', 'Josh Brolin'), 2),\n",
       " (('Jessica Alba', 'Rosario Dawson'), 2),\n",
       " (('Anne Hathaway', 'Jesse Eisenberg'), 2),\n",
       " (('Jesse Eisenberg', 'Leslie Mann'), 2),\n",
       " (('Anne Hathaway', 'Leslie Mann'), 2),\n",
       " (('Cate Blanchett', 'George Clooney'), 2),\n",
       " (('Bill Murray', 'Cate Blanchett'), 2),\n",
       " (('Bill Murray', 'George Clooney'), 2),\n",
       " (('George Clooney', 'John Goodman'), 2),\n",
       " (('Carrie-Anne Moss', 'Kit Harington'), 2),\n",
       " (('Channing Tatum', 'Sienna Miller'), 2),\n",
       " (('Imogen Poots', 'Zac Efron'), 2),\n",
       " (('Kevin Hart', 'Michael Ealy'), 2),\n",
       " (('Kevin Hart', 'Regina Hall'), 2),\n",
       " (('Michael Ealy', 'Regina Hall'), 2),\n",
       " (('Morgan Freeman', 'Nathan Gamble'), 2),\n",
       " (('Harry Connick Jr.', 'Morgan Freeman'), 2),\n",
       " (('Ashley Judd', 'Nathan Gamble'), 2),\n",
       " (('Ashley Judd', 'Harry Connick Jr.'), 2),\n",
       " (('Harry Connick Jr.', 'Nathan Gamble'), 2),\n",
       " (('Bill Nighy', 'Michael Sheen'), 2),\n",
       " (('Bill Nighy', 'Shane Brolly'), 2),\n",
       " (('Michael Sheen', 'Shane Brolly'), 2),\n",
       " (('Chris Pine', 'Zachary Quinto'), 2),\n",
       " (('Jude Law', 'Robert Downey Jr.'), 2),\n",
       " (('Amanda Peet', 'John Cusack'), 2),\n",
       " (('Jennifer Connelly', 'John C. Reilly'), 2),\n",
       " (('Christopher Plummer', 'Jennifer Connelly'), 2),\n",
       " (('Jesse Eisenberg', 'Woody Harrelson'), 2),\n",
       " (('Billy Burke', 'Kristen Stewart'), 2),\n",
       " (('Billy Burke', 'Robert Pattinson'), 2),\n",
       " (('Billy Burke', 'Taylor Lautner'), 2),\n",
       " (('Anna Faris', 'Bill Hader'), 2),\n",
       " (('Bill Hader', 'James Caan'), 2),\n",
       " (('Anna Faris', 'James Caan'), 2),\n",
       " (('Stanley Tucci', 'Susan Sarandon'), 2),\n",
       " (('Amy Smart', 'Jason Statham'), 2),\n",
       " (('Dwight Yoakam', 'Jason Statham'), 2),\n",
       " (('Efren Ramirez', 'Jason Statham'), 2),\n",
       " (('Amy Smart', 'Dwight Yoakam'), 2),\n",
       " (('Amy Smart', 'Efren Ramirez'), 2),\n",
       " (('Dwight Yoakam', 'Efren Ramirez'), 2),\n",
       " (('Jon Favreau', 'Vince Vaughn'), 2),\n",
       " (('Jason Bateman', 'Jon Favreau'), 2),\n",
       " (('Charlize Theron', 'Guy Pearce'), 2),\n",
       " (('Paul Rudd', 'Reese Witherspoon'), 2),\n",
       " (('Amy Adams', 'Meryl Streep'), 2),\n",
       " (('Meryl Streep', 'Stanley Tucci'), 2),\n",
       " (('Giovanni Ribisi', 'Johnny Depp'), 2),\n",
       " (('Billy Crudup', 'Marion Cotillard'), 2),\n",
       " (('Ben Affleck', 'Jason Bateman'), 2),\n",
       " (('Matt Damon', 'Scott Bakula'), 2),\n",
       " (('Emma Thompson', 'Rhys Ifans'), 2),\n",
       " (('Mark Rolston', 'Tobin Bell'), 2),\n",
       " (('Costas Mandylor', 'Mark Rolston'), 2),\n",
       " (('Betsy Russell', 'Mark Rolston'), 2),\n",
       " (('Megan Fox', 'Shia LaBeouf'), 2),\n",
       " (('Shia LaBeouf', 'Tyrese Gibson'), 2),\n",
       " (('Josh Duhamel', 'Megan Fox'), 2),\n",
       " (('Megan Fox', 'Tyrese Gibson'), 2),\n",
       " (('Josh Duhamel', 'Tyrese Gibson'), 2),\n",
       " (('Jeff Bridges', 'Kevin Spacey'), 2),\n",
       " (('Dwayne Johnson', 'Seann William Scott'), 2),\n",
       " (('Justin Long', 'Matt Dillon'), 2),\n",
       " (('Eva Mendes', 'Nicolas Cage'), 2),\n",
       " (('Leslie Mann', 'Seth Rogen'), 2),\n",
       " (('Armin Mueller-Stahl', 'Naomi Watts'), 2),\n",
       " (('Jordana Brewster', 'Michelle Rodriguez'), 2),\n",
       " (('Scout Taylor-Compton', 'Tyler Mane'), 2),\n",
       " (('Brad Dourif', 'Scout Taylor-Compton'), 2),\n",
       " (('Brad Dourif', 'Tyler Mane'), 2),\n",
       " (('Clive Owen', 'Julia Roberts'), 2),\n",
       " (('Clive Owen', 'Paul Giamatti'), 2),\n",
       " (('Julia Roberts', 'Paul Giamatti'), 2),\n",
       " (('Jason Bateman', 'Kristen Wiig'), 2),\n",
       " (('Jamie Foxx', 'Robert Downey Jr.'), 2),\n",
       " (('Emily Mortimer', 'Michael Caine'), 2),\n",
       " (('Danny Huston', 'Lynn Collins'), 2),\n",
       " (('Don Cheadle', 'Robert Downey Jr.'), 2),\n",
       " (('Don Cheadle', 'Gwyneth Paltrow'), 2),\n",
       " (('Helena Bonham Carter', 'Ralph Fiennes'), 2),\n",
       " (('Russell Brand', 'Steve Carell'), 2),\n",
       " (('Steve Carell', 'Will Arnett'), 2),\n",
       " (('Jason Segel', 'Russell Brand'), 2),\n",
       " (('Dolph Lundgren', 'Sylvester Stallone'), 2),\n",
       " (('Dolph Lundgren', 'Jason Statham'), 2),\n",
       " (('Mark Strong', 'Russell Crowe'), 2),\n",
       " (('Liam Neeson', 'Sam Worthington'), 2),\n",
       " (('Ralph Fiennes', 'Sam Worthington'), 2),\n",
       " (('Liam Neeson', 'Ralph Fiennes'), 2),\n",
       " (('Owen Wilson', 'Robert De Niro'), 2),\n",
       " (('Dustin Hoffman', 'Robert De Niro'), 2),\n",
       " (('Barbra Streisand', 'Robert De Niro'), 2),\n",
       " (('Ben Stiller', 'Dustin Hoffman'), 2),\n",
       " (('Barbra Streisand', 'Ben Stiller'), 2),\n",
       " (('Barbra Streisand', 'Dustin Hoffman'), 2),\n",
       " (('Brandon T. Jackson', 'Logan Lerman'), 2),\n",
       " (('Alexandra Daddario', 'Logan Lerman'), 2),\n",
       " (('Alexandra Daddario', 'Brandon T. Jackson'), 2),\n",
       " (('Channing Tatum', 'Richard Jenkins'), 2),\n",
       " (('Bradley Cooper', 'Jessica Biel'), 2),\n",
       " (('Danny Trejo', 'Michelle Rodriguez'), 2),\n",
       " (('Adam Sandler', 'Salma Hayek'), 2),\n",
       " (('Ashley Greene', 'Peter Facinelli'), 2),\n",
       " (('Brad Pitt', 'Jonah Hill'), 2),\n",
       " (('Eva Mendes', 'Mark Wahlberg'), 2),\n",
       " (('Dwayne Johnson', 'Mark Wahlberg'), 2),\n",
       " (('Eva Mendes', 'Samuel L. Jackson'), 2),\n",
       " (('Helena Bonham Carter', 'Timothy Spall'), 2),\n",
       " (('Anne Hathaway', 'Jake Gyllenhaal'), 2),\n",
       " (('Cameron Diaz', 'Tom Cruise'), 2),\n",
       " (('Greg Kinnear', 'Matt Damon'), 2),\n",
       " (('Amanda Peet', 'Jack Black'), 2),\n",
       " (('Amy Adams', 'Christian Bale'), 2),\n",
       " (('Ashton Kutcher', 'Katherine Heigl'), 2),\n",
       " (('Kristin Davis', 'Sarah Jessica Parker'), 2),\n",
       " (('Cynthia Nixon', 'Sarah Jessica Parker'), 2),\n",
       " (('Kim Cattrall', 'Sarah Jessica Parker'), 2),\n",
       " (('Chris Noth', 'Sarah Jessica Parker'), 2),\n",
       " (('Cynthia Nixon', 'Kristin Davis'), 2),\n",
       " (('Kim Cattrall', 'Kristin Davis'), 2),\n",
       " (('Chris Noth', 'Kristin Davis'), 2),\n",
       " (('Cynthia Nixon', 'Kim Cattrall'), 2),\n",
       " (('Chris Noth', 'Cynthia Nixon'), 2),\n",
       " (('Chris Noth', 'Kim Cattrall'), 2),\n",
       " (('Emma Thompson', 'Maggie Gyllenhaal'), 2),\n",
       " (('Edward Norton', 'Robert De Niro'), 2),\n",
       " (('Robert Capron', 'Zachary Gordon'), 2),\n",
       " (('Robert Capron', 'Steve Zahn'), 2),\n",
       " (('Rachael Harris', 'Robert Capron'), 2),\n",
       " (('Naomi Watts', 'Sean Penn'), 2),\n",
       " (('Kristen Wiig', 'Maya Rudolph'), 2),\n",
       " (('Andy Serkis', 'Simon Pegg'), 2),\n",
       " (('Janet Jackson', 'Tyler Perry'), 2),\n",
       " (('Jill Scott', 'Tyler Perry'), 2),\n",
       " (('Malik Yoba', 'Tyler Perry'), 2),\n",
       " (('Janet Jackson', 'Jill Scott'), 2),\n",
       " (('Janet Jackson', 'Malik Yoba'), 2),\n",
       " (('Jill Scott', 'Malik Yoba'), 2),\n",
       " (('Ali Larter', 'Milla Jovovich'), 2),\n",
       " (('Billy Crystal', 'John Goodman'), 2),\n",
       " (('John Goodman', 'Steve Buscemi'), 2),\n",
       " (('Billy Crystal', 'Steve Buscemi'), 2),\n",
       " (('Colin Firth', 'RenÃ©e Zellweger'), 2),\n",
       " (('Hugh Grant', 'RenÃ©e Zellweger'), 2),\n",
       " (('Gemma Jones', 'RenÃ©e Zellweger'), 2),\n",
       " (('Jim Broadbent', 'RenÃ©e Zellweger'), 2),\n",
       " (('Colin Firth', 'Hugh Grant'), 2),\n",
       " (('Colin Firth', 'Gemma Jones'), 2),\n",
       " (('Colin Firth', 'Jim Broadbent'), 2),\n",
       " (('Gemma Jones', 'Hugh Grant'), 2),\n",
       " (('Hugh Grant', 'Jim Broadbent'), 2),\n",
       " (('Gemma Jones', 'Jim Broadbent'), 2),\n",
       " (('Andy GarcÃ\\xada', 'George Clooney'), 2),\n",
       " (('George Clooney', 'Julia Roberts'), 2),\n",
       " (('Brad Pitt', 'Matt Damon'), 2),\n",
       " (('Andy GarcÃ\\xada', 'Brad Pitt'), 2),\n",
       " (('Andy GarcÃ\\xada', 'Julia Roberts'), 2),\n",
       " (('Brendan Fraser', 'John Hannah'), 2),\n",
       " (('Angelina Jolie', 'Noah Taylor'), 2),\n",
       " (('Paul Bettany', 'Russell Crowe'), 2),\n",
       " (('Chris Klein', 'Jason Biggs'), 2),\n",
       " (('Eddie Kaye Thomas', 'Jason Biggs'), 2),\n",
       " (('Chris Klein', 'Thomas Ian Nicholas'), 2),\n",
       " (('Eddie Kaye Thomas', 'Thomas Ian Nicholas'), 2),\n",
       " (('Chris Klein', 'Seann William Scott'), 2),\n",
       " (('Eddie Kaye Thomas', 'Seann William Scott'), 2),\n",
       " (('Anne Hathaway', 'Julie Andrews'), 2),\n",
       " (('Anne Hathaway', 'Heather Matarazzo'), 2),\n",
       " (('Anne Hathaway', 'HÃ©ctor Elizondo'), 2),\n",
       " (('Heather Matarazzo', 'Julie Andrews'), 2),\n",
       " (('HÃ©ctor Elizondo', 'Julie Andrews'), 2),\n",
       " (('Heather Matarazzo', 'HÃ©ctor Elizondo'), 2),\n",
       " (('Ewan McGregor', 'Jim Broadbent'), 2),\n",
       " (('Johnny Depp', 'PenÃ©lope Cruz'), 2),\n",
       " (('Jude Law', 'Rachel Weisz'), 2),\n",
       " (('Heath Ledger', 'Shannyn Sossamon'), 2),\n",
       " (('Ben Stiller', 'Christine Taylor'), 2),\n",
       " (('Chris Tucker', 'Jackie Chan'), 2),\n",
       " (('Jason Mewes', 'Kevin Smith'), 2),\n",
       " (('Jeff Anderson', 'Kevin Smith'), 2),\n",
       " ((\"Brian O'Halloran\", 'Kevin Smith'), 2),\n",
       " (('Jason Mewes', 'Jeff Anderson'), 2),\n",
       " ((\"Brian O'Halloran\", 'Jason Mewes'), 2),\n",
       " ((\"Brian O'Halloran\", 'Jeff Anderson'), 2),\n",
       " (('Cameron Diaz', 'PenÃ©lope Cruz'), 2),\n",
       " (('Breckin Meyer', 'Seth Green'), 2),\n",
       " (('Amy Smart', 'Breckin Meyer'), 2),\n",
       " (('Brad Pitt', 'James Gandolfini'), 2),\n",
       " (('Bill Paxton', 'Matthew McConaughey'), 2),\n",
       " (('Anthony Hopkins', 'Hope Davis'), 2),\n",
       " (('Charlize Theron', 'Robert De Niro'), 2),\n",
       " (('DMX', 'Isaiah Washington'), 2),\n",
       " (('Anthony Anderson', 'DMX'), 2),\n",
       " (('Anna Maria Horsford', 'Mike Epps'), 2),\n",
       " (('Amanda Detmer', 'Jason Biggs'), 2),\n",
       " (('John Travolta', 'Vince Vaughn'), 2),\n",
       " (('Freddie Prinze Jr.', 'Matthew Lillard'), 2),\n",
       " (('Cary Elwes', 'Joanna Lumley'), 2),\n",
       " (('Dustin Hoffman', 'Jack Black'), 2),\n",
       " (('Jack Black', 'Jackie Chan'), 2),\n",
       " (('Angelina Jolie', 'Dustin Hoffman'), 2),\n",
       " (('Dustin Hoffman', 'Jackie Chan'), 2),\n",
       " (('Angelina Jolie', 'Jackie Chan'), 2),\n",
       " (('Colin Firth', 'Stellan SkarsgÃ¥rd'), 2),\n",
       " (('Brad Pitt', 'Cate Blanchett'), 2),\n",
       " (('Brad Pitt', 'Tilda Swinton'), 2),\n",
       " (('Ben Stiller', 'Jada Pinkett Smith'), 2),\n",
       " (('David Schwimmer', 'Jada Pinkett Smith'), 2),\n",
       " (('Chris Rock', 'Jada Pinkett Smith'), 2),\n",
       " (('Ron Perlman', 'Selma Blair'), 2),\n",
       " (('Jeffrey Tambor', 'Ron Perlman'), 2),\n",
       " (('Jeffrey Tambor', 'Selma Blair'), 2),\n",
       " (('John Hurt', 'Selma Blair'), 2),\n",
       " (('Jeffrey Tambor', 'John Hurt'), 2),\n",
       " (('Charlize Theron', 'Will Smith'), 2),\n",
       " (('Anna Popplewell', 'William Moseley'), 2),\n",
       " (('Skandar Keynes', 'William Moseley'), 2),\n",
       " (('Georgie Henley', 'William Moseley'), 2),\n",
       " (('Anna Popplewell', 'Skandar Keynes'), 2),\n",
       " (('Anna Popplewell', 'Georgie Henley'), 2),\n",
       " (('David Wenham', 'Hugh Jackman'), 2),\n",
       " (('George Clooney', 'Tilda Swinton'), 2),\n",
       " (('George Clooney', 'Richard Jenkins'), 2),\n",
       " (('John C. Reilly', 'Will Ferrell'), 2),\n",
       " (('Mary Steenburgen', 'Will Ferrell'), 2),\n",
       " (('Kate Hudson', 'Matthew McConaughey'), 2),\n",
       " (('Danny McBride', 'Seth Rogen'), 2),\n",
       " (('Mark Wahlberg', 'Mila Kunis'), 2),\n",
       " (('Sigourney Weaver', 'William Hurt'), 2),\n",
       " (('Elizabeth Banks', 'Paul Rudd'), 2),\n",
       " (('Angelina Jolie', 'John Malkovich'), 2),\n",
       " (('Scott Patterson', 'Tobin Bell'), 2),\n",
       " (('Costas Mandylor', 'Scott Patterson'), 2),\n",
       " (('Betsy Russell', 'Scott Patterson'), 2),\n",
       " (('Javier Bardem', 'PenÃ©lope Cruz'), 2),\n",
       " (('Jim Carrey', 'Steve Carell'), 2),\n",
       " (('Seth Rogen', 'Steve Carell'), 2),\n",
       " (('Carla Gugino', 'Robert De Niro'), 2),\n",
       " (('Adam Sandler', 'John Turturro'), 2),\n",
       " (('Daniel Craig', 'Jamie Bell'), 2),\n",
       " (('Josh Brolin', 'Sean Penn'), 2),\n",
       " (('Cheryl Hines', 'Jeff Daniels'), 2),\n",
       " (('Kerry Washington', 'Samuel L. Jackson'), 2),\n",
       " (('Bruce Willis', 'Robin Wright'), 2),\n",
       " (('Chris Hemsworth', 'Natalie Portman'), 2),\n",
       " (('Chris Hemsworth', 'Tom Hiddleston'), 2),\n",
       " (('Anthony Hopkins', 'Chris Hemsworth'), 2),\n",
       " (('Natalie Portman', 'Tom Hiddleston'), 2),\n",
       " (('Anthony Hopkins', 'Natalie Portman'), 2),\n",
       " (('Anthony Hopkins', 'Tom Hiddleston'), 2),\n",
       " (('Emma Stone', 'Ryan Gosling'), 2),\n",
       " (('Marisa Tomei', 'Ryan Gosling'), 2),\n",
       " (('Bradley Cooper', 'Robert De Niro'), 2),\n",
       " (('Colin Farrell', 'Jason Sudeikis'), 2),\n",
       " (('Larry the Cable Guy', 'Owen Wilson'), 2),\n",
       " (('Ed Helms', 'Ken Jeong'), 2),\n",
       " (('Ken Jeong', 'Zach Galifianakis'), 2),\n",
       " (('Justin Bartha', 'Ken Jeong'), 2),\n",
       " (('Nick Frost', 'Simon Pegg'), 2),\n",
       " (('Alfred Molina', 'Johnny Depp'), 2),\n",
       " (('Asa Butterfield', 'Ben Kingsley'), 2),\n",
       " (('Matthew McConaughey', 'William H. Macy'), 2),\n",
       " (('Jim Cummings', 'Travis Oates'), 2),\n",
       " (('Bud Luckey', 'Jim Cummings'), 2),\n",
       " (('Craig Ferguson', 'Jim Cummings'), 2),\n",
       " (('Julia Roberts', 'Tom Hanks'), 2),\n",
       " (('Antonio Banderas', 'Salma Hayek'), 2),\n",
       " (('Gwyneth Paltrow', 'Jude Law'), 2),\n",
       " (('Katherine Heigl', 'Robert De Niro'), 2),\n",
       " (('Johnny A. Sanchez', 'Robin Williams'), 2),\n",
       " (('David Arquette', 'Neve Campbell'), 2),\n",
       " (('Courteney Cox', 'David Arquette'), 2),\n",
       " (('Courteney Cox', 'Neve Campbell'), 2),\n",
       " (('Devon Bostick', 'Zachary Gordon'), 2),\n",
       " (('Devon Bostick', 'Rachael Harris'), 2),\n",
       " (('Devon Bostick', 'Steve Zahn'), 2),\n",
       " (('Bill Nighy', 'Judi Dench'), 2),\n",
       " (('Hank Azaria', 'Neil Patrick Harris'), 2),\n",
       " (('Cate Blanchett', 'Tom Hollander'), 2),\n",
       " (('James McAvoy', 'Maggie Smith'), 2),\n",
       " (('James McAvoy', 'Julie Walters'), 2),\n",
       " (('Julie Walters', 'Maggie Smith'), 2),\n",
       " (('Marisa Tomei', 'Philip Seymour Hoffman'), 2),\n",
       " (('Katie Featherston', 'Sprague Grayden'), 2),\n",
       " (('Viggo Mortensen', 'Vincent Cassel'), 2),\n",
       " (('Glenn Close', 'Patrick Warburton'), 2),\n",
       " (('Paul Walker', 'Tyrese Gibson'), 2),\n",
       " (('Dwayne Johnson', 'Jordana Brewster'), 2),\n",
       " (('Jordana Brewster', 'Tyrese Gibson'), 2),\n",
       " (('Franka Potente', 'Matt Damon'), 2),\n",
       " (('Chris Cooper', 'Matt Damon'), 2),\n",
       " (('Brian Cox', 'Matt Damon'), 2),\n",
       " (('Brian Cox', 'Franka Potente'), 2),\n",
       " (('Michelle Rodriguez', 'Milla Jovovich'), 2),\n",
       " (('Ewan McGregor', 'Natalie Portman'), 2),\n",
       " (('Ewan McGregor', 'Hayden Christensen'), 2),\n",
       " (('Ewan McGregor', 'Ian McDiarmid'), 2),\n",
       " (('Ewan McGregor', 'Samuel L. Jackson'), 2),\n",
       " (('Hayden Christensen', 'Natalie Portman'), 2),\n",
       " (('Ian McDiarmid', 'Natalie Portman'), 2),\n",
       " (('Natalie Portman', 'Samuel L. Jackson'), 2),\n",
       " (('Hayden Christensen', 'Ian McDiarmid'), 2),\n",
       " (('Ian McDiarmid', 'Samuel L. Jackson'), 2),\n",
       " (('Leonardo DiCaprio', 'Martin Sheen'), 2),\n",
       " (('Amy Adams', 'Tom Hanks'), 2),\n",
       " (('Tommy Lee Jones', 'Will Smith'), 2),\n",
       " (('Adrien Brody', 'Thomas Kretschmann'), 2),\n",
       " (('Jennifer Lopez', 'Stanley Tucci'), 2),\n",
       " (('Kris Kristofferson', 'Wesley Snipes'), 2),\n",
       " (('Bam Margera', 'Johnny Knoxville'), 2),\n",
       " (('Johnny Knoxville', 'Steve-O'), 2),\n",
       " (('Chris Pontius', 'Johnny Knoxville'), 2),\n",
       " (('Bam Margera', 'Steve-O'), 2),\n",
       " (('Bam Margera', 'Chris Pontius'), 2),\n",
       " (('Chris Pontius', 'Steve-O'), 2),\n",
       " (('Meryl Streep', 'Nicolas Cage'), 2),\n",
       " (('Chris Cooper', 'Meryl Streep'), 2),\n",
       " (('Cedric the Entertainer', 'Ice Cube'), 2),\n",
       " (('Ice Cube', 'Sean Patrick Thomas'), 2),\n",
       " (('Cedric the Entertainer', 'Sean Patrick Thomas'), 2),\n",
       " (('Ice Cube', 'John Witherspoon'), 2),\n",
       " (('Don Curry', 'Ice Cube'), 2),\n",
       " (('John Witherspoon', 'Mike Epps'), 2),\n",
       " (('Don Curry', 'Mike Epps'), 2),\n",
       " (('Don Curry', 'John Witherspoon'), 2),\n",
       " (('Bruce Willis', 'Cole Hauser'), 2),\n",
       " (('Matthew Davis', 'Michelle Rodriguez'), 2),\n",
       " (('Chris Rock', 'Kerry Washington'), 2),\n",
       " (('Jamie Foxx', 'Kerry Washington'), 2),\n",
       " (('Bradley Cooper', 'Jennifer Lawrence'), 2),\n",
       " (('Emma Thompson', 'Kelly Macdonald'), 2),\n",
       " (('John Leguizamo', 'Seann William Scott'), 2),\n",
       " (('Ray Romano', 'Seann William Scott'), 2),\n",
       " (('Denis Leary', 'Seann William Scott'), 2),\n",
       " (('Ewan McGregor', 'Naomi Watts'), 2),\n",
       " (('Josh Brolin', 'Tommy Lee Jones'), 2),\n",
       " (('Bill Nighy', 'Kate Beckinsale'), 2),\n",
       " (('Alyson Hannigan', 'Jason Biggs'), 2),\n",
       " (('Alyson Hannigan', 'Seann William Scott'), 2),\n",
       " (('Alyson Hannigan', 'Thomas Ian Nicholas'), 2),\n",
       " (('Adam Sandler', 'David Spade'), 2),\n",
       " (('David Spade', 'Kevin James'), 2),\n",
       " (('Ben Foster', 'Mark Wahlberg'), 2),\n",
       " (('Ben Stiller', 'Sacha Baron Cohen'), 2),\n",
       " (('David Schwimmer', 'Sacha Baron Cohen'), 2),\n",
       " (('Chris Rock', 'Sacha Baron Cohen'), 2),\n",
       " (('Amy Adams', 'Joaquin Phoenix'), 2),\n",
       " (('Leslie Mann', 'Paul Rudd'), 2),\n",
       " (('Jason Segel', 'Leslie Mann'), 2),\n",
       " (('Radha Mitchell', 'Sean Bean'), 2),\n",
       " (('Richard Gere', 'Susan Sarandon'), 2),\n",
       " (('Milla Jovovich', 'Sienna Guillory'), 2),\n",
       " (('Kate Beckinsale', 'Scott Speedman'), 2),\n",
       " (('Kate Beckinsale', 'Shane Brolly'), 2),\n",
       " (('Scott Speedman', 'Shane Brolly'), 2),\n",
       " (('Jack Davenport', 'Johnny Depp'), 2),\n",
       " (('Geoffrey Rush', 'Orlando Bloom'), 2),\n",
       " (('Geoffrey Rush', 'Keira Knightley'), 2),\n",
       " (('Jack Davenport', 'Orlando Bloom'), 2),\n",
       " (('Jack Davenport', 'Keira Knightley'), 2),\n",
       " (('Daryl Hannah', 'Uma Thurman'), 2),\n",
       " (('David Carradine', 'Uma Thurman'), 2),\n",
       " (('Daryl Hannah', 'David Carradine'), 2),\n",
       " (('Keanu Reeves', 'Laurence Fishburne'), 2),\n",
       " (('Carrie-Anne Moss', 'Keanu Reeves'), 2),\n",
       " (('Hugo Weaving', 'Keanu Reeves'), 2),\n",
       " (('Carrie-Anne Moss', 'Laurence Fishburne'), 2),\n",
       " (('Hugo Weaving', 'Laurence Fishburne'), 2),\n",
       " (('Carrie-Anne Moss', 'Hugo Weaving'), 2),\n",
       " (('Charlie Sheen', 'Simon Rex'), 2),\n",
       " (('Jennifer Coolidge', 'Regina King'), 2),\n",
       " (('Cameron Diaz', 'Drew Barrymore'), 2),\n",
       " (('Cameron Diaz', 'Lucy Liu'), 2),\n",
       " (('Drew Barrymore', 'Lucy Liu'), 2),\n",
       " (('Ali Larter', 'Tony Todd'), 2),\n",
       " (('Bonnie Hunt', 'Steve Martin'), 2),\n",
       " (('Steve Martin', 'Tom Welling'), 2),\n",
       " (('Bonnie Hunt', 'Tom Welling'), 2),\n",
       " (('DMX', 'Jet Li'), 2),\n",
       " (('Ewan McGregor', 'RenÃ©e Zellweger'), 2),\n",
       " (('Catherine Zeta-Jones', 'George Clooney'), 2),\n",
       " (('Eugene Levy', 'Steve Martin'), 2),\n",
       " (('Cynthia Stevenson', 'Frankie Muniz'), 2),\n",
       " (('Ben Kingsley', 'Guy Pearce'), 2),\n",
       " (('Karl Urban', 'Vin Diesel'), 2),\n",
       " (('Denzel Washington', 'Paula Patton'), 2),\n",
       " (('Matthew McConaughey', 'Steve Zahn'), 2),\n",
       " (('Michelle Pfeiffer', 'Robert De Niro'), 2),\n",
       " (('Adam Sandler', 'Chris Rock'), 2),\n",
       " (('Jaden Smith', 'Will Smith'), 2),\n",
       " (('Steve Carell', 'Will Ferrell'), 2),\n",
       " (('Paul Rudd', 'Will Ferrell'), 2),\n",
       " (('Christina Applegate', 'Will Ferrell'), 2),\n",
       " (('David Koechner', 'Will Ferrell'), 2),\n",
       " (('Christina Applegate', 'Steve Carell'), 2),\n",
       " (('David Koechner', 'Steve Carell'), 2),\n",
       " (('Christina Applegate', 'Paul Rudd'), 2),\n",
       " (('David Koechner', 'Paul Rudd'), 2),\n",
       " (('Christina Applegate', 'David Koechner'), 2),\n",
       " (('Alec Baldwin', 'Cate Blanchett'), 2),\n",
       " (('Julia Roberts', 'Meryl Streep'), 2),\n",
       " (('Christian Bale', 'Willem Dafoe'), 2),\n",
       " (('Daniel Radcliffe', 'Michael Gambon'), 2),\n",
       " (('Michael Gambon', 'Rupert Grint'), 2),\n",
       " (('Emma Watson', 'Michael Gambon'), 2),\n",
       " (('Michael Gambon', 'Ralph Fiennes'), 2),\n",
       " (('Freddie Highmore', 'Johnny Depp'), 2),\n",
       " (('Ioan Gruffudd', 'Jessica Alba'), 2),\n",
       " (('Chris Evans', 'Ioan Gruffudd'), 2),\n",
       " (('Ioan Gruffudd', 'Michael Chiklis'), 2),\n",
       " (('Ioan Gruffudd', 'Julian McMahon'), 2),\n",
       " (('Chris Evans', 'Jessica Alba'), 2),\n",
       " (('Jessica Alba', 'Michael Chiklis'), 2),\n",
       " (('Jessica Alba', 'Julian McMahon'), 2),\n",
       " (('Chris Evans', 'Michael Chiklis'), 2),\n",
       " (('Chris Evans', 'Julian McMahon'), 2),\n",
       " (('Julian McMahon', 'Michael Chiklis'), 2),\n",
       " (('Jim Carrey', 'Richard Jenkins'), 2),\n",
       " (('Joaquin Phoenix', 'Robert Patrick'), 2),\n",
       " (('Bill Nighy', 'Orlando Bloom'), 2),\n",
       " (('Bill Nighy', 'Keira Knightley'), 2),\n",
       " (('Daniel Craig', 'Eva Green'), 2),\n",
       " (('Daniel Craig', 'Jeffrey Wright'), 2),\n",
       " (('Ian McKellen', 'Jean Reno'), 2),\n",
       " (('Anna Faris', 'Regina Hall'), 2),\n",
       " (('Martin Lawrence', 'Nia Long'), 2),\n",
       " (('Adam Campbell', 'Jennifer Coolidge'), 2),\n",
       " (('Julia Stiles', 'Matt Damon'), 2),\n",
       " (('Diane Kruger', 'Nicolas Cage'), 2),\n",
       " (('Jon Voight', 'Nicolas Cage'), 2),\n",
       " (('Diane Kruger', 'Jon Voight'), 2),\n",
       " (('Milla Jovovich', 'Oded Fehr'), 2),\n",
       " (('Ben Stiller', 'Teri Polo'), 2),\n",
       " (('Robert De Niro', 'Teri Polo'), 2),\n",
       " (('Angelina Jolie', 'Giovanni Ribisi'), 2),\n",
       " (('Ben Stiller', 'Vince Vaughn'), 2),\n",
       " (('George W. Bush', 'Michael Moore'), 2),\n",
       " (('Bruce Willis', 'Matthew Perry'), 2),\n",
       " (('Kevin Pollak', 'Matthew Perry'), 2),\n",
       " (('Jason Bateman', 'Jennifer Garner'), 2),\n",
       " (('John Goodman', 'Patrick Warburton'), 2),\n",
       " (('Daniel Craig', 'Nicole Kidman'), 2),\n",
       " (('Bryce Dallas Howard', 'Chris Pratt'), 1),\n",
       " (('Chris Pratt', 'Irrfan Khan'), 1),\n",
       " (('Chris Pratt', \"Vincent D'Onofrio\"), 1),\n",
       " (('Chris Pratt', 'Nick Robinson'), 1),\n",
       " (('Bryce Dallas Howard', 'Irrfan Khan'), 1),\n",
       " (('Bryce Dallas Howard', \"Vincent D'Onofrio\"), 1),\n",
       " (('Bryce Dallas Howard', 'Nick Robinson'), 1),\n",
       " (('Irrfan Khan', \"Vincent D'Onofrio\"), 1),\n",
       " (('Irrfan Khan', 'Nick Robinson'), 1),\n",
       " (('Nick Robinson', \"Vincent D'Onofrio\"), 1),\n",
       " (('Charlize Theron', 'Tom Hardy'), 1),\n",
       " (('Hugh Keays-Byrne', 'Tom Hardy'), 1),\n",
       " (('Nicholas Hoult', 'Tom Hardy'), 1),\n",
       " (('Josh Helman', 'Tom Hardy'), 1),\n",
       " (('Charlize Theron', 'Hugh Keays-Byrne'), 1),\n",
       " (('Charlize Theron', 'Nicholas Hoult'), 1),\n",
       " (('Charlize Theron', 'Josh Helman'), 1),\n",
       " (('Hugh Keays-Byrne', 'Nicholas Hoult'), 1),\n",
       " (('Hugh Keays-Byrne', 'Josh Helman'), 1),\n",
       " (('Josh Helman', 'Nicholas Hoult'), 1),\n",
       " (('Ansel Elgort', 'Theo James'), 1),\n",
       " (('Ansel Elgort', 'Kate Winslet'), 1),\n",
       " (('Ansel Elgort', 'Miles Teller'), 1),\n",
       " (('Harrison Ford', 'Mark Hamill'), 1),\n",
       " (('Carrie Fisher', 'Harrison Ford'), 1),\n",
       " (('Adam Driver', 'Harrison Ford'), 1),\n",
       " (('Daisy Ridley', 'Harrison Ford'), 1),\n",
       " (('Carrie Fisher', 'Mark Hamill'), 1),\n",
       " (('Adam Driver', 'Mark Hamill'), 1),\n",
       " (('Daisy Ridley', 'Mark Hamill'), 1),\n",
       " (('Adam Driver', 'Carrie Fisher'), 1),\n",
       " (('Carrie Fisher', 'Daisy Ridley'), 1),\n",
       " (('Adam Driver', 'Daisy Ridley'), 1),\n",
       " (('Jason Statham', 'Vin Diesel'), 1),\n",
       " (('Jason Statham', 'Paul Walker'), 1),\n",
       " (('Jason Statham', 'Michelle Rodriguez'), 1),\n",
       " (('Dwayne Johnson', 'Jason Statham'), 1),\n",
       " (('Dwayne Johnson', 'Michelle Rodriguez'), 1),\n",
       " (('Leonardo DiCaprio', 'Will Poulter'), 1),\n",
       " (('Domhnall Gleeson', 'Leonardo DiCaprio'), 1),\n",
       " (('Leonardo DiCaprio', 'Paul Anderson'), 1),\n",
       " (('Tom Hardy', 'Will Poulter'), 1),\n",
       " (('Domhnall Gleeson', 'Tom Hardy'), 1),\n",
       " (('Paul Anderson', 'Tom Hardy'), 1),\n",
       " (('Domhnall Gleeson', 'Will Poulter'), 1),\n",
       " (('Paul Anderson', 'Will Poulter'), 1),\n",
       " (('Domhnall Gleeson', 'Paul Anderson'), 1),\n",
       " (('Arnold Schwarzenegger', 'Jason Clarke'), 1),\n",
       " (('Arnold Schwarzenegger', 'Emilia Clarke'), 1),\n",
       " (('Arnold Schwarzenegger', 'Jai Courtney'), 1),\n",
       " (('Arnold Schwarzenegger', 'J.K. Simmons'), 1),\n",
       " (('Emilia Clarke', 'Jason Clarke'), 1),\n",
       " (('Jai Courtney', 'Jason Clarke'), 1),\n",
       " (('J.K. Simmons', 'Jason Clarke'), 1),\n",
       " (('Emilia Clarke', 'Jai Courtney'), 1),\n",
       " (('Emilia Clarke', 'J.K. Simmons'), 1),\n",
       " (('J.K. Simmons', 'Jai Courtney'), 1),\n",
       " (('Jessica Chastain', 'Matt Damon'), 1),\n",
       " (('Kristen Wiig', 'Matt Damon'), 1),\n",
       " (('Jeff Daniels', 'Matt Damon'), 1),\n",
       " (('Matt Damon', 'Michael PeÃ±a'), 1),\n",
       " (('Jessica Chastain', 'Kristen Wiig'), 1),\n",
       " (('Jeff Daniels', 'Jessica Chastain'), 1),\n",
       " (('Jessica Chastain', 'Michael PeÃ±a'), 1),\n",
       " (('Jeff Daniels', 'Kristen Wiig'), 1),\n",
       " (('Kristen Wiig', 'Michael PeÃ±a'), 1),\n",
       " (('Jeff Daniels', 'Michael PeÃ±a'), 1),\n",
       " (('Jon Hamm', 'Sandra Bullock'), 1),\n",
       " (('Michael Keaton', 'Sandra Bullock'), 1),\n",
       " (('Allison Janney', 'Sandra Bullock'), 1),\n",
       " (('Sandra Bullock', 'Steve Coogan'), 1),\n",
       " (('Jon Hamm', 'Michael Keaton'), 1),\n",
       " (('Allison Janney', 'Jon Hamm'), 1),\n",
       " (('Jon Hamm', 'Steve Coogan'), 1),\n",
       " (('Allison Janney', 'Michael Keaton'), 1),\n",
       " (('Michael Keaton', 'Steve Coogan'), 1),\n",
       " (('Allison Janney', 'Steve Coogan'), 1),\n",
       " (('Amy Poehler', 'Phyllis Smith'), 1),\n",
       " (('Amy Poehler', 'Richard Kind'), 1),\n",
       " (('Amy Poehler', 'Bill Hader'), 1),\n",
       " (('Amy Poehler', 'Lewis Black'), 1),\n",
       " (('Phyllis Smith', 'Richard Kind'), 1),\n",
       " (('Bill Hader', 'Phyllis Smith'), 1),\n",
       " (('Lewis Black', 'Phyllis Smith'), 1),\n",
       " (('Bill Hader', 'Richard Kind'), 1),\n",
       " (('Lewis Black', 'Richard Kind'), 1),\n",
       " (('Bill Hader', 'Lewis Black'), 1),\n",
       " (('Christoph Waltz', 'Daniel Craig'), 1),\n",
       " (('Daniel Craig', 'LÃ©a Seydoux'), 1),\n",
       " (('Daniel Craig', 'Monica Bellucci'), 1),\n",
       " (('Christoph Waltz', 'LÃ©a Seydoux'), 1),\n",
       " (('Christoph Waltz', 'Ralph Fiennes'), 1),\n",
       " (('Christoph Waltz', 'Monica Bellucci'), 1),\n",
       " (('LÃ©a Seydoux', 'Ralph Fiennes'), 1),\n",
       " (('LÃ©a Seydoux', 'Monica Bellucci'), 1),\n",
       " (('Monica Bellucci', 'Ralph Fiennes'), 1),\n",
       " (('Channing Tatum', 'Mila Kunis'), 1),\n",
       " (('Mila Kunis', 'Sean Bean'), 1),\n",
       " (('Eddie Redmayne', 'Mila Kunis'), 1),\n",
       " (('Douglas Booth', 'Mila Kunis'), 1),\n",
       " (('Channing Tatum', 'Sean Bean'), 1),\n",
       " (('Channing Tatum', 'Eddie Redmayne'), 1),\n",
       " (('Channing Tatum', 'Douglas Booth'), 1),\n",
       " (('Eddie Redmayne', 'Sean Bean'), 1),\n",
       " (('Douglas Booth', 'Sean Bean'), 1),\n",
       " (('Douglas Booth', 'Eddie Redmayne'), 1),\n",
       " (('Alicia Vikander', 'Domhnall Gleeson'), 1),\n",
       " (('Domhnall Gleeson', 'Oscar Isaac'), 1),\n",
       " (('Domhnall Gleeson', 'Sonoya Mizuno'), 1),\n",
       " (('Corey Johnson', 'Domhnall Gleeson'), 1),\n",
       " (('Alicia Vikander', 'Oscar Isaac'), 1),\n",
       " (('Alicia Vikander', 'Sonoya Mizuno'), 1),\n",
       " (('Alicia Vikander', 'Corey Johnson'), 1),\n",
       " (('Oscar Isaac', 'Sonoya Mizuno'), 1),\n",
       " (('Corey Johnson', 'Oscar Isaac'), 1),\n",
       " (('Corey Johnson', 'Sonoya Mizuno'), 1),\n",
       " (('Adam Sandler', 'Michelle Monaghan'), 1),\n",
       " (('Adam Sandler', 'Peter Dinklage'), 1),\n",
       " (('Adam Sandler', 'Josh Gad'), 1),\n",
       " (('Michelle Monaghan', 'Peter Dinklage'), 1),\n",
       " (('Josh Gad', 'Michelle Monaghan'), 1),\n",
       " (('Kevin James', 'Michelle Monaghan'), 1),\n",
       " (('Josh Gad', 'Peter Dinklage'), 1),\n",
       " (('Kevin James', 'Peter Dinklage'), 1),\n",
       " (('Josh Gad', 'Kevin James'), 1),\n",
       " (('Kurt Russell', 'Samuel L. Jackson'), 1),\n",
       " (('Jennifer Jason Leigh', 'Samuel L. Jackson'), 1),\n",
       " (('Samuel L. Jackson', 'Walton Goggins'), 1),\n",
       " (('DemiÃ¡n Bichir', 'Samuel L. Jackson'), 1),\n",
       " (('Jennifer Jason Leigh', 'Kurt Russell'), 1),\n",
       " (('Kurt Russell', 'Walton Goggins'), 1),\n",
       " (('DemiÃ¡n Bichir', 'Kurt Russell'), 1),\n",
       " (('Jennifer Jason Leigh', 'Walton Goggins'), 1),\n",
       " (('DemiÃ¡n Bichir', 'Jennifer Jason Leigh'), 1),\n",
       " (('DemiÃ¡n Bichir', 'Walton Goggins'), 1),\n",
       " (('Forest Whitaker', 'Liam Neeson'), 1),\n",
       " (('Dougray Scott', 'Liam Neeson'), 1),\n",
       " (('Forest Whitaker', 'Maggie Grace'), 1),\n",
       " (('Famke Janssen', 'Forest Whitaker'), 1),\n",
       " (('Dougray Scott', 'Forest Whitaker'), 1),\n",
       " (('Dougray Scott', 'Maggie Grace'), 1),\n",
       " (('Dougray Scott', 'Famke Janssen'), 1),\n",
       " (('Michael Douglas', 'Paul Rudd'), 1),\n",
       " (('Evangeline Lilly', 'Paul Rudd'), 1),\n",
       " (('Corey Stoll', 'Paul Rudd'), 1),\n",
       " (('Bobby Cannavale', 'Paul Rudd'), 1),\n",
       " (('Evangeline Lilly', 'Michael Douglas'), 1),\n",
       " (('Corey Stoll', 'Michael Douglas'), 1),\n",
       " (('Bobby Cannavale', 'Michael Douglas'), 1),\n",
       " (('Corey Stoll', 'Evangeline Lilly'), 1),\n",
       " (('Bobby Cannavale', 'Evangeline Lilly'), 1),\n",
       " (('Bobby Cannavale', 'Corey Stoll'), 1),\n",
       " (('Cate Blanchett', 'Lily James'), 1),\n",
       " (('Lily James', 'Richard Madden'), 1),\n",
       " (('Helena Bonham Carter', 'Lily James'), 1),\n",
       " (('Holliday Grainger', 'Lily James'), 1),\n",
       " (('Cate Blanchett', 'Richard Madden'), 1),\n",
       " (('Cate Blanchett', 'Helena Bonham Carter'), 1),\n",
       " (('Cate Blanchett', 'Holliday Grainger'), 1),\n",
       " (('Helena Bonham Carter', 'Richard Madden'), 1),\n",
       " (('Holliday Grainger', 'Richard Madden'), 1),\n",
       " (('Helena Bonham Carter', 'Holliday Grainger'), 1),\n",
       " (('Britt Robertson', 'George Clooney'), 1),\n",
       " (('Britt Robertson', 'Raffey Cassidy'), 1),\n",
       " (('Britt Robertson', 'Thomas Robinson'), 1),\n",
       " (('Britt Robertson', 'Hugh Laurie'), 1),\n",
       " (('George Clooney', 'Raffey Cassidy'), 1),\n",
       " (('George Clooney', 'Thomas Robinson'), 1),\n",
       " (('George Clooney', 'Hugh Laurie'), 1),\n",
       " (('Raffey Cassidy', 'Thomas Robinson'), 1),\n",
       " (('Hugh Laurie', 'Raffey Cassidy'), 1),\n",
       " (('Hugh Laurie', 'Thomas Robinson'), 1),\n",
       " (('Jake Gyllenhaal', 'Rachel McAdams'), 1),\n",
       " (('Forest Whitaker', 'Jake Gyllenhaal'), 1),\n",
       " (('Jake Gyllenhaal', 'Oona Laurence'), 1),\n",
       " (('50 Cent', 'Jake Gyllenhaal'), 1),\n",
       " (('Forest Whitaker', 'Rachel McAdams'), 1),\n",
       " (('Oona Laurence', 'Rachel McAdams'), 1),\n",
       " (('50 Cent', 'Rachel McAdams'), 1),\n",
       " (('Forest Whitaker', 'Oona Laurence'), 1),\n",
       " (('50 Cent', 'Forest Whitaker'), 1),\n",
       " (('50 Cent', 'Oona Laurence'), 1),\n",
       " (('Alexandra Daddario', 'Dwayne Johnson'), 1),\n",
       " (('Dwayne Johnson', 'Ioan Gruffudd'), 1),\n",
       " (('Archie Panjabi', 'Dwayne Johnson'), 1),\n",
       " (('Alexandra Daddario', 'Carla Gugino'), 1),\n",
       " (('Alexandra Daddario', 'Ioan Gruffudd'), 1),\n",
       " (('Alexandra Daddario', 'Archie Panjabi'), 1),\n",
       " (('Carla Gugino', 'Ioan Gruffudd'), 1),\n",
       " (('Archie Panjabi', 'Carla Gugino'), 1),\n",
       " (('Archie Panjabi', 'Ioan Gruffudd'), 1),\n",
       " (('Dakota Johnson', 'Jamie Dornan'), 1),\n",
       " (('Dakota Johnson', 'Jennifer Ehle'), 1),\n",
       " (('Dakota Johnson', 'Eloise Mumford'), 1),\n",
       " (('Dakota Johnson', 'Victor Rasuk'), 1),\n",
       " (('Jamie Dornan', 'Jennifer Ehle'), 1),\n",
       " (('Eloise Mumford', 'Jamie Dornan'), 1),\n",
       " (('Jamie Dornan', 'Victor Rasuk'), 1),\n",
       " (('Eloise Mumford', 'Jennifer Ehle'), 1),\n",
       " (('Jennifer Ehle', 'Victor Rasuk'), 1),\n",
       " (('Eloise Mumford', 'Victor Rasuk'), 1),\n",
       " (('Christian Bale', 'Steve Carell'), 1),\n",
       " (('Christian Bale', 'Ryan Gosling'), 1),\n",
       " (('Brad Pitt', 'Christian Bale'), 1),\n",
       " (('Brad Pitt', 'Steve Carell'), 1),\n",
       " (('Melissa Leo', 'Steve Carell'), 1),\n",
       " (('Brad Pitt', 'Ryan Gosling'), 1),\n",
       " (('Melissa Leo', 'Ryan Gosling'), 1),\n",
       " (('Brad Pitt', 'Melissa Leo'), 1),\n",
       " (('Rebecca Ferguson', 'Tom Cruise'), 1),\n",
       " (('Jeremy Renner', 'Rebecca Ferguson'), 1),\n",
       " (('Jeremy Renner', 'Ving Rhames'), 1),\n",
       " (('Rebecca Ferguson', 'Simon Pegg'), 1),\n",
       " (('Simon Pegg', 'Ving Rhames'), 1),\n",
       " (('Rebecca Ferguson', 'Ving Rhames'), 1),\n",
       " (('Amanda Seyfried', 'Mark Wahlberg'), 1),\n",
       " (('Jessica Barth', 'Mark Wahlberg'), 1),\n",
       " (('Amanda Seyfried', 'Seth MacFarlane'), 1),\n",
       " (('Jessica Barth', 'Seth MacFarlane'), 1),\n",
       " (('Amanda Seyfried', 'Jessica Barth'), 1),\n",
       " (('Amanda Seyfried', 'Giovanni Ribisi'), 1),\n",
       " (('Giovanni Ribisi', 'Jessica Barth'), 1),\n",
       " (('Colin Firth', 'Taron Egerton'), 1),\n",
       " (('Samuel L. Jackson', 'Taron Egerton'), 1),\n",
       " (('Michael Caine', 'Taron Egerton'), 1),\n",
       " (('Mark Strong', 'Taron Egerton'), 1),\n",
       " (('Colin Firth', 'Samuel L. Jackson'), 1),\n",
       " (('Colin Firth', 'Michael Caine'), 1),\n",
       " (('Colin Firth', 'Mark Strong'), 1),\n",
       " (('Michael Caine', 'Samuel L. Jackson'), 1),\n",
       " (('Mark Strong', 'Samuel L. Jackson'), 1),\n",
       " (('Mark Strong', 'Michael Caine'), 1),\n",
       " (('Mark Ruffalo', 'Michael Keaton'), 1),\n",
       " (('Mark Ruffalo', 'Rachel McAdams'), 1),\n",
       " (('Liev Schreiber', 'Mark Ruffalo'), 1),\n",
       " (('John Slattery', 'Mark Ruffalo'), 1),\n",
       " (('Michael Keaton', 'Rachel McAdams'), 1),\n",
       " (('Liev Schreiber', 'Michael Keaton'), 1),\n",
       " (('John Slattery', 'Michael Keaton'), 1),\n",
       " (('Liev Schreiber', 'Rachel McAdams'), 1),\n",
       " (('John Slattery', 'Rachel McAdams'), 1),\n",
       " (('John Slattery', 'Liev Schreiber'), 1),\n",
       " ((\"Dylan O'Brien\", 'Thomas Brodie-Sangster'), 1),\n",
       " ((\"Dylan O'Brien\", 'Giancarlo Esposito'), 1),\n",
       " (('Aidan Gillen', \"Dylan O'Brien\"), 1),\n",
       " (('Kaya Scodelario', 'Thomas Brodie-Sangster'), 1),\n",
       " (('Giancarlo Esposito', 'Kaya Scodelario'), 1),\n",
       " (('Aidan Gillen', 'Kaya Scodelario'), 1),\n",
       " (('Giancarlo Esposito', 'Thomas Brodie-Sangster'), 1),\n",
       " (('Aidan Gillen', 'Thomas Brodie-Sangster'), 1),\n",
       " (('Aidan Gillen', 'Giancarlo Esposito'), 1),\n",
       " (('Dev Patel', 'Sharlto Copley'), 1),\n",
       " (('Ninja', 'Sharlto Copley'), 1),\n",
       " (('Sharlto Copley', 'Yolandi Visser'), 1),\n",
       " (('Jose Pablo Cantillo', 'Sharlto Copley'), 1),\n",
       " (('Dev Patel', 'Ninja'), 1),\n",
       " (('Dev Patel', 'Yolandi Visser'), 1),\n",
       " (('Dev Patel', 'Jose Pablo Cantillo'), 1),\n",
       " (('Ninja', 'Yolandi Visser'), 1),\n",
       " (('Jose Pablo Cantillo', 'Ninja'), 1),\n",
       " (('Jose Pablo Cantillo', 'Yolandi Visser'), 1),\n",
       " (('Anna Kendrick', 'Hailee Steinfeld'), 1),\n",
       " (('Hailee Steinfeld', 'Rebel Wilson'), 1),\n",
       " (('Brittany Snow', 'Hailee Steinfeld'), 1),\n",
       " (('Hailee Steinfeld', 'Skylar Astin'), 1),\n",
       " (('Mark Rylance', 'Tom Hanks'), 1),\n",
       " (('Amy Ryan', 'Tom Hanks'), 1),\n",
       " (('Alan Alda', 'Tom Hanks'), 1),\n",
       " (('Sebastian Koch', 'Tom Hanks'), 1),\n",
       " (('Amy Ryan', 'Mark Rylance'), 1),\n",
       " (('Alan Alda', 'Mark Rylance'), 1),\n",
       " (('Mark Rylance', 'Sebastian Koch'), 1),\n",
       " (('Alan Alda', 'Amy Ryan'), 1),\n",
       " (('Amy Ryan', 'Sebastian Koch'), 1),\n",
       " (('Alan Alda', 'Sebastian Koch'), 1),\n",
       " (('Dylan Minnette', 'Jack Black'), 1),\n",
       " (('Jack Black', 'Odeya Rush'), 1),\n",
       " (('Amy Ryan', 'Jack Black'), 1),\n",
       " (('Jack Black', 'Jillian Bell'), 1),\n",
       " (('Dylan Minnette', 'Odeya Rush'), 1),\n",
       " (('Amy Ryan', 'Dylan Minnette'), 1),\n",
       " (('Dylan Minnette', 'Jillian Bell'), 1),\n",
       " (('Amy Ryan', 'Odeya Rush'), 1),\n",
       " (('Jillian Bell', 'Odeya Rush'), 1),\n",
       " (('Amy Ryan', 'Jillian Bell'), 1),\n",
       " (('Brie Larson', 'Jacob Tremblay'), 1),\n",
       " (('Brie Larson', 'Joan Allen'), 1),\n",
       " (('Brie Larson', 'Sean Bridgers'), 1),\n",
       " (('Brie Larson', 'William H. Macy'), 1),\n",
       " (('Jacob Tremblay', 'Joan Allen'), 1),\n",
       " (('Jacob Tremblay', 'Sean Bridgers'), 1),\n",
       " (('Jacob Tremblay', 'William H. Macy'), 1),\n",
       " ...]"
      ]
     },
     "execution_count": 132,
     "metadata": {},
     "output_type": "execute_result"
    }
   ],
   "source": [
    "#Вариант с использованием единого списка пар актеров, полученных суммированием списков пар\n",
    "\n",
    "df = data['cast_lst'].apply(lambda x: list(itertools.combinations(x,2)))\n",
    "#Получаем единый список пар актеров\n",
    "pair_list = df.sum()\n",
    "# Сортируем комбинации, чтобы пары с одним набором актеров, но разным порядком считались одной комбинацией\n",
    "pair_list_sorted=[]\n",
    "for pair in pair_list:\n",
    "    pair_list_sorted.append(tuple(sorted(pair)))\n",
    "Counter(pair_list_sorted).most_common()"
   ]
  },
  {
   "cell_type": "markdown",
   "metadata": {
    "colab_type": "text",
    "id": "U0nONFnGVqAX"
   },
   "source": [
    "# Submission"
   ]
  },
  {
   "cell_type": "code",
   "execution_count": 133,
   "metadata": {
    "colab": {},
    "colab_type": "code",
    "id": "IfcaRO9-VqAX",
    "outputId": "0f132912-32bb-4196-c98c-abfbc4ad5a5f"
   },
   "outputs": [
    {
     "data": {
      "text/plain": [
       "{'1': 'Pirates of the Caribbean: On Stranger Tides',\n",
       " '2': 'Gods and Generals',\n",
       " '3': 'Winnie the Pooh',\n",
       " '4': 110,\n",
       " '5': 107,\n",
       " '6': 'Avatar',\n",
       " '7': 'The Lone Ranger',\n",
       " '8': 1478,\n",
       " '9': 'The Dark Knight',\n",
       " '10': 'The Lone Ranger',\n",
       " '11': 'Drama',\n",
       " '12': 'Drama',\n",
       " '13': 'Peter Jackson',\n",
       " '14': 'Robert Rodriguez',\n",
       " '15': 'Chris Hemsworth',\n",
       " '16': 'Matt Damon',\n",
       " '17': 'Action',\n",
       " '18': 'K-19: The Widowmaker',\n",
       " '19': 2015,\n",
       " '20': 2014,\n",
       " '21': 'Сентябрь',\n",
       " '22': 450,\n",
       " '23': 'Peter Jackson',\n",
       " '24': 'Four By Two Productions',\n",
       " '25': 'Midnight Picture Show',\n",
       " '26': 'Inside Out, The Dark Knight, 12 Years a Slave',\n",
       " '27': 'Daniel Radcliffe, Rupert Grint'}"
      ]
     },
     "execution_count": 133,
     "metadata": {},
     "output_type": "execute_result"
    }
   ],
   "source": [
    "# в конце можно посмотреть свои ответы к каждому вопросу\n",
    "answers"
   ]
  },
  {
   "cell_type": "code",
   "execution_count": 134,
   "metadata": {
    "colab": {},
    "colab_type": "code",
    "id": "SiRmHPl8VqAd"
   },
   "outputs": [
    {
     "data": {
      "text/plain": [
       "27"
      ]
     },
     "execution_count": 134,
     "metadata": {},
     "output_type": "execute_result"
    }
   ],
   "source": [
    "# и убедиться что ни чего не пропустил)\n",
    "len(answers)"
   ]
  }
 ],
 "metadata": {
  "colab": {
   "name": "Copy of [SF-DST] Movies IMBD v4.1 TEMPLATE.ipynb",
   "provenance": []
  },
  "kernelspec": {
   "display_name": "Python 3",
   "language": "python",
   "name": "python3"
  },
  "language_info": {
   "codemirror_mode": {
    "name": "ipython",
    "version": 3
   },
   "file_extension": ".py",
   "mimetype": "text/x-python",
   "name": "python",
   "nbconvert_exporter": "python",
   "pygments_lexer": "ipython3",
   "version": "3.7.3"
  }
 },
 "nbformat": 4,
 "nbformat_minor": 1
}
