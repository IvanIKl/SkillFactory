{
 "cells": [
  {
   "cell_type": "markdown",
   "metadata": {},
   "source": [
    "Name:        Who wants to be a millionaire of movie service ?"
   ]
  },
  {
   "cell_type": "markdown",
   "metadata": {},
   "source": [
    "Author:      Ivan Kleymenov"
   ]
  },
  {
   "cell_type": "code",
   "execution_count": 136,
   "metadata": {
    "_cell_guid": "b1076dfc-b9ad-4769-8c92-a6c4dae69d19",
    "_uuid": "8f2839f25d086af736a60e9eeb907d3b93b6e0e5",
    "colab": {},
    "colab_type": "code",
    "id": "U2D2gTdJVp90"
   },
   "outputs": [],
   "source": [
    "import numpy as np\n",
    "import pandas as pd\n",
    "import seaborn as sns\n",
    "import matplotlib.pyplot as plt\n",
    "from collections import Counter\n",
    "import itertools "
   ]
  },
  {
   "cell_type": "code",
   "execution_count": 137,
   "metadata": {
    "_cell_guid": "79c7e3d0-c299-4dcb-8224-4455121ee9b0",
    "_uuid": "d629ff2d2480ee46fbb7e2d37f6b5fab8052498a",
    "colab": {},
    "colab_type": "code",
    "id": "oyGfxL3eVp9-"
   },
   "outputs": [
    {
     "data": {
      "text/html": [
       "<div>\n",
       "<style scoped>\n",
       "    .dataframe tbody tr th:only-of-type {\n",
       "        vertical-align: middle;\n",
       "    }\n",
       "\n",
       "    .dataframe tbody tr th {\n",
       "        vertical-align: top;\n",
       "    }\n",
       "\n",
       "    .dataframe thead th {\n",
       "        text-align: right;\n",
       "    }\n",
       "</style>\n",
       "<table border=\"1\" class=\"dataframe\">\n",
       "  <thead>\n",
       "    <tr style=\"text-align: right;\">\n",
       "      <th></th>\n",
       "      <th>imdb_id</th>\n",
       "      <th>budget</th>\n",
       "      <th>revenue</th>\n",
       "      <th>original_title</th>\n",
       "      <th>cast</th>\n",
       "      <th>director</th>\n",
       "      <th>tagline</th>\n",
       "      <th>overview</th>\n",
       "      <th>runtime</th>\n",
       "      <th>genres</th>\n",
       "      <th>production_companies</th>\n",
       "      <th>release_date</th>\n",
       "      <th>vote_average</th>\n",
       "      <th>release_year</th>\n",
       "    </tr>\n",
       "  </thead>\n",
       "  <tbody>\n",
       "    <tr>\n",
       "      <td>1797</td>\n",
       "      <td>tt0778661</td>\n",
       "      <td>10000000</td>\n",
       "      <td>31609243</td>\n",
       "      <td>Daddy's Little Girls</td>\n",
       "      <td>Gabrielle Union|Idris Elba|Louis Gossett, Jr.|...</td>\n",
       "      <td>Tyler Perry</td>\n",
       "      <td>Family Comes First</td>\n",
       "      <td>Monty is a mechanic struggling to make ends me...</td>\n",
       "      <td>100</td>\n",
       "      <td>Comedy|Drama|Romance</td>\n",
       "      <td>Lions Gate Films|Tyler Perry Company, The</td>\n",
       "      <td>2/14/2007</td>\n",
       "      <td>6.7</td>\n",
       "      <td>2007</td>\n",
       "    </tr>\n",
       "    <tr>\n",
       "      <td>1144</td>\n",
       "      <td>tt0313443</td>\n",
       "      <td>50000000</td>\n",
       "      <td>55495563</td>\n",
       "      <td>Out of Time</td>\n",
       "      <td>Denzel Washington|Eva Mendes|Sanaa Lathan|John...</td>\n",
       "      <td>Carl Franklin</td>\n",
       "      <td>The Clock Is Ticking...</td>\n",
       "      <td>Matt Lee Whitlock, respected chief of police i...</td>\n",
       "      <td>105</td>\n",
       "      <td>Thriller|Crime|Drama</td>\n",
       "      <td>Original Film|Monarch Pictures|Metro-Goldwyn-M...</td>\n",
       "      <td>10/3/2003</td>\n",
       "      <td>6.0</td>\n",
       "      <td>2003</td>\n",
       "    </tr>\n",
       "    <tr>\n",
       "      <td>1524</td>\n",
       "      <td>tt0462338</td>\n",
       "      <td>25000000</td>\n",
       "      <td>11772461</td>\n",
       "      <td>The Hoax</td>\n",
       "      <td>Richard Gere|Alfred Molina|Marcia Gay Harden|H...</td>\n",
       "      <td>Lasse HallstrÃ¶m</td>\n",
       "      <td>Never let the truth get in the way of a good s...</td>\n",
       "      <td>In what would cause a fantastic media frenzy, ...</td>\n",
       "      <td>116</td>\n",
       "      <td>Comedy|Drama</td>\n",
       "      <td>Miramax Films|The Mark Gordon Company|Yari Fil...</td>\n",
       "      <td>10/14/2006</td>\n",
       "      <td>6.5</td>\n",
       "      <td>2006</td>\n",
       "    </tr>\n",
       "    <tr>\n",
       "      <td>112</td>\n",
       "      <td>tt1018765</td>\n",
       "      <td>28000000</td>\n",
       "      <td>7002261</td>\n",
       "      <td>Our Brand Is Crisis</td>\n",
       "      <td>Sandra Bullock|Anthony Mackie|Billy Bob Thornt...</td>\n",
       "      <td>David Gordon Green</td>\n",
       "      <td>May the best campaign win.</td>\n",
       "      <td>A feature film based on the documentary \"Our B...</td>\n",
       "      <td>108</td>\n",
       "      <td>Drama|Comedy</td>\n",
       "      <td>Participant Media|Smokehouse Pictures</td>\n",
       "      <td>9/11/2015</td>\n",
       "      <td>5.7</td>\n",
       "      <td>2015</td>\n",
       "    </tr>\n",
       "    <tr>\n",
       "      <td>832</td>\n",
       "      <td>tt1204342</td>\n",
       "      <td>45000000</td>\n",
       "      <td>165184237</td>\n",
       "      <td>The Muppets</td>\n",
       "      <td>Amy Adams|Jason Segel|Emily Blunt|John Krasins...</td>\n",
       "      <td>James Bobin</td>\n",
       "      <td>They're closer than you think.</td>\n",
       "      <td>When Kermit the Frog and the Muppets learn tha...</td>\n",
       "      <td>103</td>\n",
       "      <td>Comedy|Family|Music</td>\n",
       "      <td>Walt Disney Pictures</td>\n",
       "      <td>11/22/2011</td>\n",
       "      <td>6.4</td>\n",
       "      <td>2011</td>\n",
       "    </tr>\n",
       "  </tbody>\n",
       "</table>\n",
       "</div>"
      ],
      "text/plain": [
       "        imdb_id    budget    revenue        original_title  \\\n",
       "1797  tt0778661  10000000   31609243  Daddy's Little Girls   \n",
       "1144  tt0313443  50000000   55495563           Out of Time   \n",
       "1524  tt0462338  25000000   11772461              The Hoax   \n",
       "112   tt1018765  28000000    7002261   Our Brand Is Crisis   \n",
       "832   tt1204342  45000000  165184237           The Muppets   \n",
       "\n",
       "                                                   cast            director  \\\n",
       "1797  Gabrielle Union|Idris Elba|Louis Gossett, Jr.|...         Tyler Perry   \n",
       "1144  Denzel Washington|Eva Mendes|Sanaa Lathan|John...       Carl Franklin   \n",
       "1524  Richard Gere|Alfred Molina|Marcia Gay Harden|H...    Lasse HallstrÃ¶m   \n",
       "112   Sandra Bullock|Anthony Mackie|Billy Bob Thornt...  David Gordon Green   \n",
       "832   Amy Adams|Jason Segel|Emily Blunt|John Krasins...         James Bobin   \n",
       "\n",
       "                                                tagline  \\\n",
       "1797                                 Family Comes First   \n",
       "1144                            The Clock Is Ticking...   \n",
       "1524  Never let the truth get in the way of a good s...   \n",
       "112                          May the best campaign win.   \n",
       "832                      They're closer than you think.   \n",
       "\n",
       "                                               overview  runtime  \\\n",
       "1797  Monty is a mechanic struggling to make ends me...      100   \n",
       "1144  Matt Lee Whitlock, respected chief of police i...      105   \n",
       "1524  In what would cause a fantastic media frenzy, ...      116   \n",
       "112   A feature film based on the documentary \"Our B...      108   \n",
       "832   When Kermit the Frog and the Muppets learn tha...      103   \n",
       "\n",
       "                    genres                               production_companies  \\\n",
       "1797  Comedy|Drama|Romance          Lions Gate Films|Tyler Perry Company, The   \n",
       "1144  Thriller|Crime|Drama  Original Film|Monarch Pictures|Metro-Goldwyn-M...   \n",
       "1524          Comedy|Drama  Miramax Films|The Mark Gordon Company|Yari Fil...   \n",
       "112           Drama|Comedy              Participant Media|Smokehouse Pictures   \n",
       "832    Comedy|Family|Music                               Walt Disney Pictures   \n",
       "\n",
       "     release_date  vote_average  release_year  \n",
       "1797    2/14/2007           6.7          2007  \n",
       "1144    10/3/2003           6.0          2003  \n",
       "1524   10/14/2006           6.5          2006  \n",
       "112     9/11/2015           5.7          2015  \n",
       "832    11/22/2011           6.4          2011  "
      ]
     },
     "execution_count": 137,
     "metadata": {},
     "output_type": "execute_result"
    }
   ],
   "source": [
    "data = pd.read_csv('movie_bd_v5.xls')\n",
    "data.sample(5)"
   ]
  },
  {
   "cell_type": "code",
   "execution_count": 138,
   "metadata": {
    "colab": {},
    "colab_type": "code",
    "id": "CoYUnagMVp-C",
    "scrolled": true
   },
   "outputs": [
    {
     "data": {
      "text/html": [
       "<div>\n",
       "<style scoped>\n",
       "    .dataframe tbody tr th:only-of-type {\n",
       "        vertical-align: middle;\n",
       "    }\n",
       "\n",
       "    .dataframe tbody tr th {\n",
       "        vertical-align: top;\n",
       "    }\n",
       "\n",
       "    .dataframe thead th {\n",
       "        text-align: right;\n",
       "    }\n",
       "</style>\n",
       "<table border=\"1\" class=\"dataframe\">\n",
       "  <thead>\n",
       "    <tr style=\"text-align: right;\">\n",
       "      <th></th>\n",
       "      <th>budget</th>\n",
       "      <th>revenue</th>\n",
       "      <th>runtime</th>\n",
       "      <th>vote_average</th>\n",
       "      <th>release_year</th>\n",
       "    </tr>\n",
       "  </thead>\n",
       "  <tbody>\n",
       "    <tr>\n",
       "      <td>count</td>\n",
       "      <td>1.889000e+03</td>\n",
       "      <td>1.889000e+03</td>\n",
       "      <td>1889.000000</td>\n",
       "      <td>1889.000000</td>\n",
       "      <td>1889.000000</td>\n",
       "    </tr>\n",
       "    <tr>\n",
       "      <td>mean</td>\n",
       "      <td>5.431083e+07</td>\n",
       "      <td>1.553653e+08</td>\n",
       "      <td>109.658549</td>\n",
       "      <td>6.140762</td>\n",
       "      <td>2007.860773</td>\n",
       "    </tr>\n",
       "    <tr>\n",
       "      <td>std</td>\n",
       "      <td>4.858721e+07</td>\n",
       "      <td>2.146698e+08</td>\n",
       "      <td>18.017041</td>\n",
       "      <td>0.764763</td>\n",
       "      <td>4.468841</td>\n",
       "    </tr>\n",
       "    <tr>\n",
       "      <td>min</td>\n",
       "      <td>5.000000e+06</td>\n",
       "      <td>2.033165e+06</td>\n",
       "      <td>63.000000</td>\n",
       "      <td>3.300000</td>\n",
       "      <td>2000.000000</td>\n",
       "    </tr>\n",
       "    <tr>\n",
       "      <td>25%</td>\n",
       "      <td>2.000000e+07</td>\n",
       "      <td>3.456058e+07</td>\n",
       "      <td>97.000000</td>\n",
       "      <td>5.600000</td>\n",
       "      <td>2004.000000</td>\n",
       "    </tr>\n",
       "    <tr>\n",
       "      <td>50%</td>\n",
       "      <td>3.800000e+07</td>\n",
       "      <td>8.361541e+07</td>\n",
       "      <td>107.000000</td>\n",
       "      <td>6.100000</td>\n",
       "      <td>2008.000000</td>\n",
       "    </tr>\n",
       "    <tr>\n",
       "      <td>75%</td>\n",
       "      <td>7.200000e+07</td>\n",
       "      <td>1.782626e+08</td>\n",
       "      <td>120.000000</td>\n",
       "      <td>6.600000</td>\n",
       "      <td>2012.000000</td>\n",
       "    </tr>\n",
       "    <tr>\n",
       "      <td>max</td>\n",
       "      <td>3.800000e+08</td>\n",
       "      <td>2.781506e+09</td>\n",
       "      <td>214.000000</td>\n",
       "      <td>8.100000</td>\n",
       "      <td>2015.000000</td>\n",
       "    </tr>\n",
       "  </tbody>\n",
       "</table>\n",
       "</div>"
      ],
      "text/plain": [
       "             budget       revenue      runtime  vote_average  release_year\n",
       "count  1.889000e+03  1.889000e+03  1889.000000   1889.000000   1889.000000\n",
       "mean   5.431083e+07  1.553653e+08   109.658549      6.140762   2007.860773\n",
       "std    4.858721e+07  2.146698e+08    18.017041      0.764763      4.468841\n",
       "min    5.000000e+06  2.033165e+06    63.000000      3.300000   2000.000000\n",
       "25%    2.000000e+07  3.456058e+07    97.000000      5.600000   2004.000000\n",
       "50%    3.800000e+07  8.361541e+07   107.000000      6.100000   2008.000000\n",
       "75%    7.200000e+07  1.782626e+08   120.000000      6.600000   2012.000000\n",
       "max    3.800000e+08  2.781506e+09   214.000000      8.100000   2015.000000"
      ]
     },
     "execution_count": 138,
     "metadata": {},
     "output_type": "execute_result"
    }
   ],
   "source": [
    "data.describe()"
   ]
  },
  {
   "cell_type": "code",
   "execution_count": 139,
   "metadata": {},
   "outputs": [
    {
     "name": "stdout",
     "output_type": "stream",
     "text": [
      "<class 'pandas.core.frame.DataFrame'>\n",
      "RangeIndex: 1889 entries, 0 to 1888\n",
      "Data columns (total 14 columns):\n",
      "imdb_id                 1889 non-null object\n",
      "budget                  1889 non-null int64\n",
      "revenue                 1889 non-null int64\n",
      "original_title          1889 non-null object\n",
      "cast                    1889 non-null object\n",
      "director                1889 non-null object\n",
      "tagline                 1889 non-null object\n",
      "overview                1889 non-null object\n",
      "runtime                 1889 non-null int64\n",
      "genres                  1889 non-null object\n",
      "production_companies    1889 non-null object\n",
      "release_date            1889 non-null object\n",
      "vote_average            1889 non-null float64\n",
      "release_year            1889 non-null int64\n",
      "dtypes: float64(1), int64(4), object(9)\n",
      "memory usage: 206.7+ KB\n"
     ]
    }
   ],
   "source": [
    "data.info()"
   ]
  },
  {
   "cell_type": "markdown",
   "metadata": {
    "colab_type": "text",
    "id": "DTIt7ezGVp-G"
   },
   "source": [
    "# Предобработка"
   ]
  },
  {
   "cell_type": "code",
   "execution_count": 140,
   "metadata": {
    "colab": {},
    "colab_type": "code",
    "id": "jNb40DwKVp-H"
   },
   "outputs": [],
   "source": [
    "answers = {} # создадим словарь для ответов\n",
    "\n",
    "#Переводим дату релиза в формат datetime\n",
    "data['dt_release_date'] = pd.to_datetime(data['release_date'])\n",
    "\n",
    "# Рассчитываем прибыль (profit) фильмов\n",
    "data['profit'] = data.apply(lambda row: row.revenue-row.budget, axis = 1 )\n",
    "\n",
    "# Создаем столбец со списком жанров\n",
    "data['genres_lst'] = data['genres'].apply(lambda x: x.split('|'))\n",
    "\n",
    "# Создаем столбец со списоком режиссеров\n",
    "data['director_lst'] = data['director'].apply(lambda x: x.split('|'))\n",
    "\n",
    "# Создаем столбец со списоком актеров\n",
    "data['cast_lst'] = data['cast'].apply(lambda x: x.split('|'))\n",
    "\n",
    "# Создаем столбец со списоком студий\n",
    "data['prod_lst'] = data['production_companies'].apply(lambda x: x.split('|'))\n",
    "\n",
    "# Создаем столбец c длиной строки с названием фильма\n",
    "data['title_len'] = data['original_title'].apply(lambda x: len(x))\n",
    "\n",
    "# Создаем столбец c количеством слов в описании\n",
    "data['overview_len'] = data['overview'].apply(lambda x: len(x.split()))\n"
   ]
  },
  {
   "cell_type": "markdown",
   "metadata": {
    "colab_type": "text",
    "id": "YxZaH-nPVp-L"
   },
   "source": [
    "# 1. У какого фильма из списка самый большой бюджет?"
   ]
  },
  {
   "cell_type": "code",
   "execution_count": 141,
   "metadata": {
    "colab": {},
    "colab_type": "code",
    "id": "uVnXAY5RVp-O"
   },
   "outputs": [],
   "source": [
    "# \"+\"\n",
    "answers['1'] = 'Pirates of the Caribbean: On Stranger Tides'"
   ]
  },
  {
   "cell_type": "code",
   "execution_count": 142,
   "metadata": {
    "colab": {},
    "colab_type": "code",
    "id": "dZwb3m28Vp-S"
   },
   "outputs": [
    {
     "name": "stdout",
     "output_type": "stream",
     "text": [
      "Cамый большой бюджет в размере 380000000 у фильма Pirates of the Caribbean: On Stranger Tides\n"
     ]
    }
   ],
   "source": [
    "max_budget_title = data[data.budget == data.budget.max()]['original_title'].values[0]\n",
    "print('Cамый большой бюджет в размере {} у фильма {}'.format(data.budget.max(),max_budget_title))"
   ]
  },
  {
   "cell_type": "markdown",
   "metadata": {
    "colab_type": "text",
    "id": "FNRbbI3vVp-c"
   },
   "source": [
    "# 2. Какой из фильмов самый длительный (в минутах)?"
   ]
  },
  {
   "cell_type": "code",
   "execution_count": 143,
   "metadata": {
    "colab": {},
    "colab_type": "code",
    "id": "vHAoEXNTVp-d"
   },
   "outputs": [],
   "source": [
    "# \"+\"\n",
    "answers['2'] = 'Gods and Generals'"
   ]
  },
  {
   "cell_type": "code",
   "execution_count": 144,
   "metadata": {
    "colab": {},
    "colab_type": "code",
    "id": "ot-VX2XrVp-g"
   },
   "outputs": [
    {
     "name": "stdout",
     "output_type": "stream",
     "text": [
      "Cамая большая длительность 214 у фильма Gods and Generals\n"
     ]
    }
   ],
   "source": [
    "max_runtime_title = data[data.runtime == data.runtime.max()]['original_title'].values[0]\n",
    "print('Cамая большая длительность {} у фильма {}'.format(data.runtime.max(),max_runtime_title))"
   ]
  },
  {
   "cell_type": "markdown",
   "metadata": {
    "colab_type": "text",
    "id": "bapLlpW8Vp-k"
   },
   "source": [
    "# 3. Какой из фильмов самый короткий (в минутах)?\n",
    "\n",
    "\n",
    "\n"
   ]
  },
  {
   "cell_type": "code",
   "execution_count": 145,
   "metadata": {
    "colab": {},
    "colab_type": "code",
    "id": "YBxaSHuAVp-l"
   },
   "outputs": [],
   "source": [
    "# \"+\"\n",
    "answers['3'] = 'Winnie the Pooh'"
   ]
  },
  {
   "cell_type": "code",
   "execution_count": 146,
   "metadata": {},
   "outputs": [
    {
     "name": "stdout",
     "output_type": "stream",
     "text": [
      "Cамая маленькая длительность 63 у фильма Winnie the Pooh\n"
     ]
    }
   ],
   "source": [
    "min_runtime_title = data[data.runtime == data.runtime.min()]['original_title'].values[0]\n",
    "print('Cамая маленькая длительность {} у фильма {}'.format(data.runtime.min(),min_runtime_title))"
   ]
  },
  {
   "cell_type": "markdown",
   "metadata": {
    "colab_type": "text",
    "id": "TfQbxbfNVp-p"
   },
   "source": [
    "# 4. Какова средняя длительность фильмов?\n"
   ]
  },
  {
   "cell_type": "code",
   "execution_count": 147,
   "metadata": {
    "colab": {},
    "colab_type": "code",
    "id": "5K6dKZYVVp-q"
   },
   "outputs": [],
   "source": [
    "# \"+\"\n",
    "answers['4'] = 110"
   ]
  },
  {
   "cell_type": "code",
   "execution_count": 148,
   "metadata": {},
   "outputs": [
    {
     "name": "stdout",
     "output_type": "stream",
     "text": [
      "Средняя длительность фильмов 110\n"
     ]
    }
   ],
   "source": [
    "print('Средняя длительность фильмов {}'.format(round(data.runtime.mean())))"
   ]
  },
  {
   "cell_type": "markdown",
   "metadata": {
    "colab_type": "text",
    "id": "r5TvbnT_Vp-u"
   },
   "source": [
    "# 5. Каково медианное значение длительности фильмов? "
   ]
  },
  {
   "cell_type": "code",
   "execution_count": 149,
   "metadata": {},
   "outputs": [],
   "source": [
    "# \"+\"\n",
    "answers['5'] = 107"
   ]
  },
  {
   "cell_type": "code",
   "execution_count": 150,
   "metadata": {
    "colab": {},
    "colab_type": "code",
    "id": "iBROplKnVp-v"
   },
   "outputs": [
    {
     "name": "stdout",
     "output_type": "stream",
     "text": [
      "Медианное значение длительности фильмов 107\n"
     ]
    }
   ],
   "source": [
    "print('Медианное значение длительности фильмов {}'.format(round(data.runtime.median())))"
   ]
  },
  {
   "cell_type": "markdown",
   "metadata": {
    "colab_type": "text",
    "id": "39P-deDSVp-y"
   },
   "source": [
    "# 6. Какой самый прибыльный фильм?\n",
    "#### Внимание! Здесь и далее под «прибылью» или «убытками» понимается разность между сборами и бюджетом фильма. (прибыль = сборы - бюджет) в нашем датасете это будет (profit = revenue - budget) "
   ]
  },
  {
   "cell_type": "code",
   "execution_count": 151,
   "metadata": {
    "colab": {},
    "colab_type": "code",
    "id": "UYZh4T9WVp-y"
   },
   "outputs": [],
   "source": [
    "# \"+\"\n",
    "answers['6'] = 'Avatar'"
   ]
  },
  {
   "cell_type": "code",
   "execution_count": 152,
   "metadata": {},
   "outputs": [
    {
     "name": "stdout",
     "output_type": "stream",
     "text": [
      "Самый прибыльный фильм Avatar с прибылью 2544505847\n"
     ]
    }
   ],
   "source": [
    "max_profit_title = data[data.profit == data.profit.max()]['original_title'].values[0]\n",
    "print('Самый прибыльный фильм {} с прибылью {}'.format(max_profit_title,data.profit.max()))"
   ]
  },
  {
   "cell_type": "markdown",
   "metadata": {
    "colab_type": "text",
    "id": "M99JmIX4Vp-2"
   },
   "source": [
    "# 7. Какой фильм самый убыточный? "
   ]
  },
  {
   "cell_type": "code",
   "execution_count": 153,
   "metadata": {
    "colab": {},
    "colab_type": "code",
    "id": "w-D2m4XPVp-3"
   },
   "outputs": [],
   "source": [
    "# \"+\"\n",
    "answers['7'] = 'The Lone Ranger'"
   ]
  },
  {
   "cell_type": "code",
   "execution_count": 154,
   "metadata": {},
   "outputs": [
    {
     "name": "stdout",
     "output_type": "stream",
     "text": [
      "Самый убыточный фильм The Lone Ranger с убытком -165710090\n"
     ]
    }
   ],
   "source": [
    "min_profit_title = data[data.profit == data.profit.min()]['original_title'].values[0]\n",
    "print('Самый убыточный фильм {} с убытком {}'.format(min_profit_title,data.profit.min()))"
   ]
  },
  {
   "cell_type": "markdown",
   "metadata": {
    "colab_type": "text",
    "id": "wEOM5ERVVp-6"
   },
   "source": [
    "# 8. У скольких фильмов из датасета объем сборов оказался выше бюджета?"
   ]
  },
  {
   "cell_type": "code",
   "execution_count": 155,
   "metadata": {
    "colab": {},
    "colab_type": "code",
    "id": "y00_7HD6Vp-7"
   },
   "outputs": [],
   "source": [
    "# \"+\"\n",
    "answers['8'] = 1478"
   ]
  },
  {
   "cell_type": "markdown",
   "metadata": {},
   "source": [
    "ВАРИАНТ 1"
   ]
  },
  {
   "cell_type": "code",
   "execution_count": 156,
   "metadata": {},
   "outputs": [
    {
     "name": "stdout",
     "output_type": "stream",
     "text": [
      "У 1478 фильмов из датасета объем сборов оказался выше бюджета\n"
     ]
    }
   ],
   "source": [
    "# Используем столбец profit\n",
    "\n",
    "pos_profit = len(data[data.profit > 0])\n",
    "print('У {} фильмов из датасета объем сборов оказался выше бюджета'.format(pos_profit))"
   ]
  },
  {
   "cell_type": "markdown",
   "metadata": {},
   "source": [
    "ВАРИАНТ 2\n"
   ]
  },
  {
   "cell_type": "code",
   "execution_count": 157,
   "metadata": {},
   "outputs": [
    {
     "name": "stdout",
     "output_type": "stream",
     "text": [
      "У 1478 фильмов из датасета объем сборов оказался выше бюджета\n"
     ]
    }
   ],
   "source": [
    "# Используем сранение между сборами и бюджетом\n",
    "\n",
    "pos_profit2 = len(data[data.revenue > data.budget])\n",
    "print('У {} фильмов из датасета объем сборов оказался выше бюджета'.format(pos_profit2))"
   ]
  },
  {
   "cell_type": "markdown",
   "metadata": {
    "colab_type": "text",
    "id": "xhpspA9KVp_A"
   },
   "source": [
    "# 9. Какой фильм оказался самым кассовым в 2008 году?"
   ]
  },
  {
   "cell_type": "code",
   "execution_count": 158,
   "metadata": {
    "colab": {},
    "colab_type": "code",
    "id": "MoUyQr9RVp_B"
   },
   "outputs": [],
   "source": [
    "# \"+\"\n",
    "answers['9'] = 'The Dark Knight'"
   ]
  },
  {
   "cell_type": "code",
   "execution_count": 159,
   "metadata": {},
   "outputs": [
    {
     "name": "stdout",
     "output_type": "stream",
     "text": [
      "Cамый кассовый в размере 1001921825 фильма в 2008 году The Dark Knight\n"
     ]
    }
   ],
   "source": [
    "df2008 = data[data.release_year == 2008]\n",
    "max_revenue2008 = df2008.revenue.max()\n",
    "max_revenue_title2008 = df2008[df2008.revenue == max_revenue2008]['original_title'].values[0]\n",
    "print('Cамый кассовый в размере {} фильма в 2008 году {}'.format(max_revenue2008,max_revenue_title2008))"
   ]
  },
  {
   "cell_type": "markdown",
   "metadata": {
    "colab_type": "text",
    "id": "Zi4hDKidVp_F"
   },
   "source": [
    "# 10. Самый убыточный фильм за период с 2012 по 2014 г. (включительно)?\n"
   ]
  },
  {
   "cell_type": "code",
   "execution_count": 160,
   "metadata": {
    "colab": {},
    "colab_type": "code",
    "id": "XqyRmufJVp_F"
   },
   "outputs": [],
   "source": [
    "# \"+\"\n",
    "answers['10'] = 'The Lone Ranger'"
   ]
  },
  {
   "cell_type": "code",
   "execution_count": 161,
   "metadata": {},
   "outputs": [
    {
     "name": "stdout",
     "output_type": "stream",
     "text": [
      "Cамый убыточный в размере -165710090 фильм в 2012-2014 годах The Lone Ranger\n"
     ]
    }
   ],
   "source": [
    "df = data[(data.release_year >= 2012) & (data.release_year <= 2014)]\n",
    "min_profit12_14 = df.profit.min()\n",
    "min_profit_title12_14 = df[df.profit == min_profit12_14]['original_title'].values[0]\n",
    "print('Cамый убыточный в размере {} фильм в 2012-2014 годах {}'.format(min_profit12_14,min_profit_title12_14))"
   ]
  },
  {
   "cell_type": "markdown",
   "metadata": {
    "colab_type": "text",
    "id": "EA7Sa9dkVp_I"
   },
   "source": [
    "# 11. Какого жанра фильмов больше всего?"
   ]
  },
  {
   "cell_type": "code",
   "execution_count": 162,
   "metadata": {
    "colab": {},
    "colab_type": "code",
    "id": "zsJAwJ8QVp_J"
   },
   "outputs": [],
   "source": [
    "# \"+\"\n",
    "answers['11'] = 'Drama'"
   ]
  },
  {
   "cell_type": "markdown",
   "metadata": {},
   "source": [
    "ВАРИАНТ 1"
   ]
  },
  {
   "cell_type": "code",
   "execution_count": 163,
   "metadata": {
    "scrolled": false
   },
   "outputs": [
    {
     "name": "stdout",
     "output_type": "stream",
     "text": [
      "Больше всего фильмов из жанра Drama. Их число 782\n"
     ]
    }
   ],
   "source": [
    "# Вариант с использованием размножения строк списка жанров\n",
    "\n",
    "exp_df = data.explode('genres_lst').genres_lst.value_counts().reset_index()\n",
    "max_genres = exp_df['index'].iloc[0]\n",
    "max_genres_count = exp_df['genres_lst'].iloc[0]\n",
    "print('Больше всего фильмов из жанра {}. Их число {}'.format(max_genres,max_genres_count))"
   ]
  },
  {
   "cell_type": "markdown",
   "metadata": {
    "colab_type": "text",
    "id": "Ax6g2C8SVp_M"
   },
   "source": [
    "ВАРИАНТ 2"
   ]
  },
  {
   "cell_type": "code",
   "execution_count": 164,
   "metadata": {
    "colab": {},
    "colab_type": "code",
    "id": "otO3SbrSVp_N"
   },
   "outputs": [
    {
     "name": "stdout",
     "output_type": "stream",
     "text": [
      "Больше всего фильмов из жанра Drama. Их число 782\n"
     ]
    }
   ],
   "source": [
    "# Вариант с использованием функции в apply, подсчитывающей жанры\n",
    "\n",
    "# Объект - счетчик жанров\n",
    "c = Counter()\n",
    "\n",
    "# Функция суммирования жанров в датафрейме\n",
    "def genres_sum(genres):\n",
    "    for genre in genres:\n",
    "        c[genre] += 1\n",
    "\n",
    "data['genres_lst'].apply(genres_sum)\n",
    "max_genres = ''\n",
    "max_genres_count = 0\n",
    "for k,j in c.items():\n",
    "    if j > max_genres_count:\n",
    "        max_genres_count = j \n",
    "        max_genres = k\n",
    "\n",
    "print('Больше всего фильмов из жанра {}. Их число {}'.format(max_genres,max_genres_count))\n"
   ]
  },
  {
   "cell_type": "markdown",
   "metadata": {},
   "source": [
    "ВАРИАНТ 3\n"
   ]
  },
  {
   "cell_type": "code",
   "execution_count": 165,
   "metadata": {},
   "outputs": [
    {
     "name": "stdout",
     "output_type": "stream",
     "text": [
      "Больше всего фильмов из жанра Drama. Их число 782\n"
     ]
    }
   ],
   "source": [
    "# Вариант с использованием счетчика, подсчитывающего жанры из полного списка \n",
    "\n",
    "c = Counter(data.genres.str.cat(sep = '|').split('|')).most_common()[0]\n",
    "max_genres = c[0]\n",
    "max_genres_count = c[1]\n",
    "print('Больше всего фильмов из жанра {}. Их число {}'.format(max_genres,max_genres_count))"
   ]
  },
  {
   "cell_type": "markdown",
   "metadata": {
    "colab_type": "text",
    "id": "T9_bPWpkVp_Q"
   },
   "source": [
    "# 12. Фильмы какого жанра чаще всего становятся прибыльными? "
   ]
  },
  {
   "cell_type": "code",
   "execution_count": 166,
   "metadata": {
    "colab": {},
    "colab_type": "code",
    "id": "Tmt8MaK1Vp_R"
   },
   "outputs": [],
   "source": [
    "# \"+\"\n",
    "answers['12'] = 'Drama'"
   ]
  },
  {
   "cell_type": "code",
   "execution_count": 167,
   "metadata": {},
   "outputs": [
    {
     "name": "stdout",
     "output_type": "stream",
     "text": [
      "Больше всего прибыльных фильмов из жанра Drama. Их число 560\n"
     ]
    }
   ],
   "source": [
    "exp_df = data[data.profit>0].explode('genres_lst').genres_lst.value_counts().reset_index()\n",
    "max_profit_genres = exp_df['index'].iloc[0]\n",
    "max_profit_genres_count = exp_df['genres_lst'].iloc[0]\n",
    "print('Больше всего прибыльных фильмов из жанра {}. Их число {}'.format(max_profit_genres,max_profit_genres_count))"
   ]
  },
  {
   "cell_type": "markdown",
   "metadata": {
    "colab_type": "text",
    "id": "0F23bgsDVp_U"
   },
   "source": [
    "# 13. У какого режиссера самые большие суммарные кассовые сбооры?"
   ]
  },
  {
   "cell_type": "code",
   "execution_count": 168,
   "metadata": {},
   "outputs": [],
   "source": [
    "# \"+\"\n",
    "answers['13'] = 'Peter Jackson'"
   ]
  },
  {
   "cell_type": "code",
   "execution_count": 169,
   "metadata": {
    "colab": {},
    "colab_type": "code",
    "id": "K6Z3J8ygVp_X"
   },
   "outputs": [
    {
     "name": "stdout",
     "output_type": "stream",
     "text": [
      "Cамые большие суммарные кассовые сборы у режиссера Peter Jackson\n"
     ]
    }
   ],
   "source": [
    "exp_df = data.explode('director_lst')\n",
    "max_revenue_director = exp_df.groupby('director_lst')['revenue'].sum().sort_values(ascending=False).index[0]\n",
    "print('Cамые большие суммарные кассовые сборы у режиссера {}'.format(max_revenue_director))"
   ]
  },
  {
   "cell_type": "markdown",
   "metadata": {
    "colab_type": "text",
    "id": "PsYC9FgRVp_a"
   },
   "source": [
    "# 14. Какой режисер снял больше всего фильмов в стиле Action?"
   ]
  },
  {
   "cell_type": "code",
   "execution_count": 170,
   "metadata": {
    "colab": {},
    "colab_type": "code",
    "id": "wd2M-wHeVp_b"
   },
   "outputs": [],
   "source": [
    "# \"+\"\n",
    "answers['14'] = 'Robert Rodriguez'"
   ]
  },
  {
   "cell_type": "code",
   "execution_count": 171,
   "metadata": {},
   "outputs": [
    {
     "name": "stdout",
     "output_type": "stream",
     "text": [
      "Режиссер, снявший больше всего фильмов Action Robert Rodriguez\n"
     ]
    }
   ],
   "source": [
    "action_df = data[data.genres.str.contains('Action')]\n",
    "max_action_director = action_df.explode('director_lst').director_lst.value_counts().index[0]\n",
    "# Или такой вариант \n",
    "# max_action_director = Counter(action_df.director.str.cat(sep='|').split('|')).most_common()[0][0]\n",
    "print('Режиссер, снявший больше всего фильмов Action {}'.format(max_action_director))"
   ]
  },
  {
   "cell_type": "markdown",
   "metadata": {
    "colab_type": "text",
    "id": "PQ0KciD7Vp_f"
   },
   "source": [
    "# 15. Фильмы с каким актером принесли самые высокие кассовые сборы в 2012 году? "
   ]
  },
  {
   "cell_type": "code",
   "execution_count": 172,
   "metadata": {
    "colab": {},
    "colab_type": "code",
    "id": "aga62oeKVp_g"
   },
   "outputs": [],
   "source": [
    "# \"+\"\n",
    "answers['15'] = 'Chris Hemsworth'"
   ]
  },
  {
   "cell_type": "code",
   "execution_count": 173,
   "metadata": {},
   "outputs": [
    {
     "name": "stdout",
     "output_type": "stream",
     "text": [
      "Режиссер, снявший больше всего фильмов Action Robert Rodriguez\n"
     ]
    }
   ],
   "source": [
    "df = data[data.release_year == 2012].explode('cast_lst')\n",
    "max_revenue_actor = df.groupby('cast_lst').revenue.sum().sort_values(ascending = False).index[0]\n",
    "print('Режиссер, снявший больше всего фильмов Action {}'.format(max_action_director))"
   ]
  },
  {
   "cell_type": "markdown",
   "metadata": {
    "colab_type": "text",
    "id": "mWHyyL7QVp_j"
   },
   "source": [
    "# 16. Какой актер снялся в большем количестве высокобюджетных фильмов?"
   ]
  },
  {
   "cell_type": "code",
   "execution_count": 174,
   "metadata": {
    "colab": {},
    "colab_type": "code",
    "id": "qQtmHKTFVp_k"
   },
   "outputs": [],
   "source": [
    "# \"+\"\n",
    "answers['16'] = 'Matt Damon'"
   ]
  },
  {
   "cell_type": "code",
   "execution_count": 175,
   "metadata": {},
   "outputs": [
    {
     "name": "stdout",
     "output_type": "stream",
     "text": [
      "Matt Damon снялся в большем количестве высокобюджетных фильмов\n"
     ]
    }
   ],
   "source": [
    "df = data[data.budget > data.budget.mean()]\n",
    "max_budget_actor = df.explode('cast_lst').cast_lst.value_counts().index[0]\n",
    "print('{} снялся в большем количестве высокобюджетных фильмов'.format(max_budget_actor))"
   ]
  },
  {
   "cell_type": "markdown",
   "metadata": {
    "colab_type": "text",
    "id": "NIh6AaW5Vp_n"
   },
   "source": [
    "# 17. В фильмах какого жанра больше всего снимался Nicolas Cage? "
   ]
  },
  {
   "cell_type": "code",
   "execution_count": 176,
   "metadata": {
    "colab": {},
    "colab_type": "code",
    "id": "H74SJDIBVp_n"
   },
   "outputs": [],
   "source": [
    "# \"+\"\n",
    "answers['17'] = 'Action'"
   ]
  },
  {
   "cell_type": "code",
   "execution_count": 177,
   "metadata": {},
   "outputs": [
    {
     "name": "stdout",
     "output_type": "stream",
     "text": [
      "Nicolas Cage cнялся больше всего в Action\n"
     ]
    }
   ],
   "source": [
    "df = data[data.cast.str.contains('Nicolas Cage')]\n",
    "genre_Nic = df.explode('genres_lst').genres_lst.value_counts().index[0]\n",
    "print('Nicolas Cage cнялся больше всего в {}'.format(genre_Nic))"
   ]
  },
  {
   "cell_type": "markdown",
   "metadata": {
    "colab_type": "text",
    "id": "RqOmPRfWVp_q"
   },
   "source": [
    "# 18. Самый убыточный фильм от Paramount Pictures"
   ]
  },
  {
   "cell_type": "code",
   "execution_count": 178,
   "metadata": {
    "colab": {},
    "colab_type": "code",
    "id": "9E_B0Y96Vp_r"
   },
   "outputs": [],
   "source": [
    "# \"+\"\n",
    "answers['18'] = 'K-19: The Widowmaker'"
   ]
  },
  {
   "cell_type": "code",
   "execution_count": 179,
   "metadata": {},
   "outputs": [
    {
     "name": "stdout",
     "output_type": "stream",
     "text": [
      "Самый убыточный фильм от Paramount Pictures K-19: The Widowmaker\n"
     ]
    }
   ],
   "source": [
    "df = data[data.production_companies.str.contains('Paramount Pictures')]\n",
    "min_profit_paramount = df[df.profit == df.profit.min()].original_title.values[0]\n",
    "print('Самый убыточный фильм от Paramount Pictures {}'.format(min_profit_paramount))"
   ]
  },
  {
   "cell_type": "markdown",
   "metadata": {
    "colab_type": "text",
    "id": "vS8Ur6ddVp_u"
   },
   "source": [
    "# 19. Какой год стал самым успешным по суммарным кассовым сборам?"
   ]
  },
  {
   "cell_type": "code",
   "execution_count": 180,
   "metadata": {
    "colab": {},
    "colab_type": "code",
    "id": "Dnbt4GdIVp_v"
   },
   "outputs": [],
   "source": [
    "# \"+\"\n",
    "answers['19'] = 2015"
   ]
  },
  {
   "cell_type": "code",
   "execution_count": 181,
   "metadata": {},
   "outputs": [
    {
     "name": "stdout",
     "output_type": "stream",
     "text": [
      "Самый успешный год по суммарным кассовым сборам 2015\n"
     ]
    }
   ],
   "source": [
    "max_revenue_year = data.groupby('release_year').revenue.sum().sort_values(ascending = False).index[0]\n",
    "print('Самый успешный год по суммарным кассовым сборам {}'.format(max_revenue_year))"
   ]
  },
  {
   "cell_type": "markdown",
   "metadata": {
    "colab_type": "text",
    "id": "JAzJh4QAVp_z"
   },
   "source": [
    "# 20. Какой самый прибыльный год для студии Warner Bros?"
   ]
  },
  {
   "cell_type": "code",
   "execution_count": 182,
   "metadata": {
    "colab": {},
    "colab_type": "code",
    "id": "wgVu02DEVp_0"
   },
   "outputs": [],
   "source": [
    "# \"+\"\n",
    "answers['20'] = 2014"
   ]
  },
  {
   "cell_type": "code",
   "execution_count": 183,
   "metadata": {},
   "outputs": [
    {
     "name": "stdout",
     "output_type": "stream",
     "text": [
      "Самый успешный год студии WB по суммарным кассовым сборам 2014\n"
     ]
    }
   ],
   "source": [
    "df = data[data.production_companies.str.contains('Warner Bros')]\n",
    "max_revenue_wb_year = df.groupby('release_year').revenue.sum().sort_values(ascending = False).index[0]\n",
    "print('Самый успешный год студии WB по суммарным кассовым сборам {}'.format(max_revenue_wb_year))"
   ]
  },
  {
   "cell_type": "markdown",
   "metadata": {
    "colab_type": "text",
    "id": "8Im1S2HRVp_4"
   },
   "source": [
    "# 21. В каком месяце за все годы суммарно вышло больше всего фильмов?"
   ]
  },
  {
   "cell_type": "code",
   "execution_count": 184,
   "metadata": {},
   "outputs": [],
   "source": [
    "# \"+\"\n",
    "answers['21'] = 'Сентябрь'"
   ]
  },
  {
   "cell_type": "code",
   "execution_count": 185,
   "metadata": {
    "colab": {},
    "colab_type": "code",
    "id": "lev6TH7gVp_4"
   },
   "outputs": [
    {
     "name": "stdout",
     "output_type": "stream",
     "text": [
      "Суммарно вышло больше всего фильмов в месяце 9\n"
     ]
    }
   ],
   "source": [
    "max_release_month = data.dt_release_date.dt.month.value_counts().index[0]\n",
    "print('Суммарно вышло больше всего фильмов в месяце {}'.format(max_release_month))"
   ]
  },
  {
   "cell_type": "markdown",
   "metadata": {
    "colab_type": "text",
    "id": "uAJsZ_NeVp_7"
   },
   "source": [
    "# 22. Сколько суммарно вышло фильмов летом? (за июнь, июль, август)"
   ]
  },
  {
   "cell_type": "code",
   "execution_count": 186,
   "metadata": {
    "colab": {},
    "colab_type": "code",
    "id": "Aa-hEREoVp_8"
   },
   "outputs": [],
   "source": [
    "# \"+\"\n",
    "answers['22'] = 450"
   ]
  },
  {
   "cell_type": "code",
   "execution_count": 187,
   "metadata": {
    "scrolled": true
   },
   "outputs": [
    {
     "name": "stdout",
     "output_type": "stream",
     "text": [
      "Суммарно вышло вышло фильмов летом 450\n"
     ]
    }
   ],
   "source": [
    "summer_count = data.query('dt_release_date.dt.month in [6,7,8]').count()[0]\n",
    "print('Суммарно вышло вышло фильмов летом {}'.format(summer_count))"
   ]
  },
  {
   "cell_type": "markdown",
   "metadata": {
    "colab_type": "text",
    "id": "G94ppOY1VqAA"
   },
   "source": [
    "# 23. Для какого режиссера зима – самое продуктивное время года? "
   ]
  },
  {
   "cell_type": "code",
   "execution_count": 188,
   "metadata": {
    "colab": {},
    "colab_type": "code",
    "id": "RhNTsamuVqAB"
   },
   "outputs": [],
   "source": [
    "# \"+\"\n",
    "answers['23'] = 'Peter Jackson'"
   ]
  },
  {
   "cell_type": "code",
   "execution_count": 189,
   "metadata": {},
   "outputs": [
    {
     "name": "stdout",
     "output_type": "stream",
     "text": [
      "Самое продуктивное время года для режиссера Peter Jackson\n"
     ]
    }
   ],
   "source": [
    "df = data.query('dt_release_date.dt.month in [1,2,12]')\n",
    "df = df.explode('director_lst')\n",
    "winter_soon_director = df.director_lst.value_counts().index[0]\n",
    "print('Самое продуктивное время года для режиссера {}'.format(winter_soon_director))"
   ]
  },
  {
   "cell_type": "markdown",
   "metadata": {
    "colab_type": "text",
    "id": "RBo0JVjVVqAF"
   },
   "source": [
    "# 24. Какая студия дает самые длинные названия своим фильмам по количеству символов?"
   ]
  },
  {
   "cell_type": "code",
   "execution_count": 190,
   "metadata": {
    "colab": {},
    "colab_type": "code",
    "id": "QRGS8L0iVqAG"
   },
   "outputs": [],
   "source": [
    "# \"+\"\n",
    "answers['24'] = 'Four By Two Productions'"
   ]
  },
  {
   "cell_type": "code",
   "execution_count": 191,
   "metadata": {},
   "outputs": [
    {
     "name": "stdout",
     "output_type": "stream",
     "text": [
      "Самые длинные названия своим фильмам по количеству символов дает студия Four By Two Productions\n"
     ]
    }
   ],
   "source": [
    "df = data.explode('prod_lst')\n",
    "prod_group = df.groupby('prod_lst')\n",
    "max_len_prod = prod_group['title_len'].mean().sort_values(ascending = False).index[0]\n",
    "print('Самые длинные названия своим фильмам по количеству символов дает студия {}'.format(max_len_prod))"
   ]
  },
  {
   "cell_type": "markdown",
   "metadata": {
    "colab_type": "text",
    "id": "9G0hbvR7VqAK"
   },
   "source": [
    "# 25. Описание фильмов какой студии в среднем самые длинные по количеству слов?"
   ]
  },
  {
   "cell_type": "code",
   "execution_count": 192,
   "metadata": {
    "colab": {},
    "colab_type": "code",
    "id": "Ge2GsLNxVqAK"
   },
   "outputs": [],
   "source": [
    "# \"+\"\n",
    "answers['25'] = 'Midnight Picture Show'"
   ]
  },
  {
   "cell_type": "code",
   "execution_count": 193,
   "metadata": {},
   "outputs": [
    {
     "name": "stdout",
     "output_type": "stream",
     "text": [
      "Самые длинные описания фильмов по количеству слов у студии Midnight Picture Show\n"
     ]
    }
   ],
   "source": [
    "df = data.explode('prod_lst')\n",
    "prod_group = df.groupby('prod_lst')\n",
    "max_len_overview_prod = prod_group['overview_len'].mean().sort_values(ascending = False).index[0]\n",
    "print('Самые длинные описания фильмов по количеству слов у студии {}'.format(max_len_overview_prod))"
   ]
  },
  {
   "cell_type": "markdown",
   "metadata": {
    "colab_type": "text",
    "id": "FJ1AFt90VqAP"
   },
   "source": [
    "# 26. Какие фильмы входят в 1 процент лучших по рейтингу? \n",
    "по vote_average"
   ]
  },
  {
   "cell_type": "code",
   "execution_count": 194,
   "metadata": {
    "colab": {},
    "colab_type": "code",
    "id": "8qmJVq4CVqAQ"
   },
   "outputs": [],
   "source": [
    "# \"+\"\n",
    "answers['26'] = 'Inside Out, The Dark Knight, 12 Years a Slave'"
   ]
  },
  {
   "cell_type": "code",
   "execution_count": 195,
   "metadata": {},
   "outputs": [
    {
     "data": {
      "text/plain": [
       "['Inside Out',\n",
       " 'Room',\n",
       " 'Interstellar',\n",
       " 'Guardians of the Galaxy',\n",
       " 'The Imitation Game',\n",
       " 'Gone Girl',\n",
       " 'The Grand Budapest Hotel',\n",
       " 'Inception',\n",
       " 'The Dark Knight',\n",
       " 'The Pianist',\n",
       " 'The Lord of the Rings: The Return of the King',\n",
       " 'The Wolf of Wall Street',\n",
       " '12 Years a Slave',\n",
       " 'Memento']"
      ]
     },
     "execution_count": 195,
     "metadata": {},
     "output_type": "execute_result"
    }
   ],
   "source": [
    "#Отбираем фильмы, вошедшие в 1% квантриль сверху по признаку vote_average\n",
    "answer_lst = data[data.vote_average > data.vote_average.quantile(0.99)]['original_title'].tolist()\n",
    "answer_lst"
   ]
  },
  {
   "cell_type": "markdown",
   "metadata": {
    "colab_type": "text",
    "id": "MdXsUXbCVqAV"
   },
   "source": [
    "# 27. Какие актеры чаще всего снимаются в одном фильме вместе?\n"
   ]
  },
  {
   "cell_type": "code",
   "execution_count": 196,
   "metadata": {},
   "outputs": [],
   "source": [
    "# \"+\"\n",
    "answers['27'] = 'Daniel Radcliffe, Rupert Grint'"
   ]
  },
  {
   "cell_type": "markdown",
   "metadata": {},
   "source": [
    "ВАРИАНТ 1"
   ]
  },
  {
   "cell_type": "code",
   "execution_count": 197,
   "metadata": {
    "scrolled": true
   },
   "outputs": [
    {
     "data": {
      "text/plain": [
       "[Emma Watson, Rupert Grint]            8\n",
       "[Daniel Radcliffe, Rupert Grint]       8\n",
       "[Daniel Radcliffe, Emma Watson]        8\n",
       "[Ben Stiller, Owen Wilson]             6\n",
       "[Helena Bonham Carter, Johnny Depp]    6\n",
       "                                      ..\n",
       "[Rachel Nichols, Stephen Lang]         1\n",
       "[Claire Forlani, Richard Roundtree]    1\n",
       "[Columbus Short, Ne-Yo]                1\n",
       "[Jake Gyllenhaal, Russell Peters]      1\n",
       "[Adam Goldberg, Val Kilmer]            1\n",
       "Name: cast_pairs, Length: 17943, dtype: int64"
      ]
     },
     "execution_count": 197,
     "metadata": {},
     "output_type": "execute_result"
    }
   ],
   "source": [
    "# Вариант с использованием размножения строк (explode)\n",
    "\n",
    "df = data['cast_lst'].apply(lambda x: list(itertools.combinations(x,2)))\n",
    "df = pd.DataFrame({'cast_pairs': df.values})\n",
    "df['cast_pairs_len'] = df.cast_pairs.apply(lambda x: len(x))\n",
    "# Исключаем фильмы, где указан только один актер. \n",
    "# В этих случаях itertools.combinations возвращает пустую строку, что вызывает ошибку в дальнейшей обработке\n",
    "df = df[df.cast_pairs_len > 1]\n",
    "df = df.explode('cast_pairs')\n",
    "# Сортируем комбинации, чтобы пары с одним набором актеров, но разным порядком считались одной комбинацией\n",
    "df['cast_pairs'] = df.cast_pairs.apply(lambda x: sorted(x))\n",
    "df.cast_pairs.value_counts()\n"
   ]
  },
  {
   "cell_type": "markdown",
   "metadata": {},
   "source": [
    "ВАРИАНТ 2"
   ]
  },
  {
   "cell_type": "code",
   "execution_count": 198,
   "metadata": {},
   "outputs": [
    {
     "data": {
      "text/plain": [
       "[(('Daniel Radcliffe', 'Rupert Grint'), 8),\n",
       " (('Daniel Radcliffe', 'Emma Watson'), 8),\n",
       " (('Emma Watson', 'Rupert Grint'), 8),\n",
       " (('Ben Stiller', 'Owen Wilson'), 6),\n",
       " (('Helena Bonham Carter', 'Johnny Depp'), 6)]"
      ]
     },
     "execution_count": 198,
     "metadata": {},
     "output_type": "execute_result"
    }
   ],
   "source": [
    "#Вариант с использованием единого списка пар актеров, полученных суммированием списков пар\n",
    "\n",
    "df = data['cast_lst'].apply(lambda x: list(itertools.combinations(x,2)))\n",
    "#Получаем единый список пар актеров\n",
    "pair_list = df.sum()\n",
    "# Сортируем комбинации, чтобы пары с одним набором актеров, но разным порядком считались одной комбинацией\n",
    "pair_list_sorted=[]\n",
    "for pair in pair_list:\n",
    "    pair_list_sorted.append(tuple(sorted(pair)))\n",
    "Counter(pair_list_sorted).most_common(5)"
   ]
  },
  {
   "cell_type": "markdown",
   "metadata": {
    "colab_type": "text",
    "id": "U0nONFnGVqAX"
   },
   "source": [
    "# Submission"
   ]
  },
  {
   "cell_type": "code",
   "execution_count": 199,
   "metadata": {
    "colab": {},
    "colab_type": "code",
    "id": "IfcaRO9-VqAX",
    "outputId": "0f132912-32bb-4196-c98c-abfbc4ad5a5f"
   },
   "outputs": [
    {
     "data": {
      "text/plain": [
       "{'1': 'Pirates of the Caribbean: On Stranger Tides',\n",
       " '2': 'Gods and Generals',\n",
       " '3': 'Winnie the Pooh',\n",
       " '4': 110,\n",
       " '5': 107,\n",
       " '6': 'Avatar',\n",
       " '7': 'The Lone Ranger',\n",
       " '8': 1478,\n",
       " '9': 'The Dark Knight',\n",
       " '10': 'The Lone Ranger',\n",
       " '11': 'Drama',\n",
       " '12': 'Drama',\n",
       " '13': 'Peter Jackson',\n",
       " '14': 'Robert Rodriguez',\n",
       " '15': 'Chris Hemsworth',\n",
       " '16': 'Matt Damon',\n",
       " '17': 'Action',\n",
       " '18': 'K-19: The Widowmaker',\n",
       " '19': 2015,\n",
       " '20': 2014,\n",
       " '21': 'Сентябрь',\n",
       " '22': 450,\n",
       " '23': 'Peter Jackson',\n",
       " '24': 'Four By Two Productions',\n",
       " '25': 'Midnight Picture Show',\n",
       " '26': 'Inside Out, The Dark Knight, 12 Years a Slave',\n",
       " '27': 'Daniel Radcliffe, Rupert Grint'}"
      ]
     },
     "execution_count": 199,
     "metadata": {},
     "output_type": "execute_result"
    }
   ],
   "source": [
    "# в конце можно посмотреть свои ответы к каждому вопросу\n",
    "answers"
   ]
  },
  {
   "cell_type": "code",
   "execution_count": 200,
   "metadata": {
    "colab": {},
    "colab_type": "code",
    "id": "SiRmHPl8VqAd"
   },
   "outputs": [
    {
     "data": {
      "text/plain": [
       "27"
      ]
     },
     "execution_count": 200,
     "metadata": {},
     "output_type": "execute_result"
    }
   ],
   "source": [
    "# и убедиться что ни чего не пропустил)\n",
    "len(answers)"
   ]
  }
 ],
 "metadata": {
  "colab": {
   "name": "Copy of [SF-DST] Movies IMBD v4.1 TEMPLATE.ipynb",
   "provenance": []
  },
  "kernelspec": {
   "display_name": "Python 3",
   "language": "python",
   "name": "python3"
  },
  "language_info": {
   "codemirror_mode": {
    "name": "ipython",
    "version": 3
   },
   "file_extension": ".py",
   "mimetype": "text/x-python",
   "name": "python",
   "nbconvert_exporter": "python",
   "pygments_lexer": "ipython3",
   "version": "3.7.3"
  }
 },
 "nbformat": 4,
 "nbformat_minor": 1
}
